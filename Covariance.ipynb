{
 "cells": [
  {
   "cell_type": "markdown",
   "metadata": {},
   "source": [
    "# **Covariance** "
   ]
  },
  {
   "cell_type": "markdown",
   "metadata": {},
   "source": [
    "is a statistical measure that describes the directional relationship between two variables. It indicates whether two variables tend to increase or decrease simultaneously, providing insight into how they change together. Covariance is an essential concept in probability theory and statistics, often used to quantify the degree to which two variables vary with respect to each other."
   ]
  },
  {
   "cell_type": "markdown",
   "metadata": {},
   "source": [
    "### When to Use Covariance:\n",
    "#### Covariance is useful when you want to understand the direction of the relationship between two variables, especially when you're interested in how they move together but don't need a standardized measure (like the Pearson correlation).\n",
    "\n"
   ]
  },
  {
   "cell_type": "code",
   "execution_count": 1,
   "metadata": {},
   "outputs": [],
   "source": [
    "import numpy as np\n",
    "import pandas as pd\n",
    "import matplotlib.pyplot as plt\n",
    "import seaborn as sns \n",
    " "
   ]
  },
  {
   "cell_type": "markdown",
   "metadata": {},
   "source": [
    "### Example #1 Manual"
   ]
  },
  {
   "cell_type": "code",
   "execution_count": 2,
   "metadata": {},
   "outputs": [
    {
     "name": "stdout",
     "output_type": "stream",
     "text": [
      "Sample:  283.25\n",
      "Population:  226.6\n"
     ]
    }
   ],
   "source": [
    "stock_a = [100,104,111,123,145]\n",
    "stock_b = [200,201,212,212,240]\n",
    "\n",
    "mean_stock_a = np.mean(stock_a)\n",
    "mean_stock_b = np.mean(stock_b)\n",
    "\n",
    "diff_product_sum = 0\n",
    "\n",
    "for i in range(len(stock_a)):\n",
    "    diff_a = stock_a[i] - mean_stock_a\n",
    "    diff_b = stock_b[i] - mean_stock_b\n",
    "    diff_product_sum += diff_a * diff_b\n",
    "\n",
    "\n",
    "covariance_manual_population = diff_product_sum / len(stock_a)\n",
    "covariance_manual_sample = diff_product_sum / (len(stock_a) - 1)\n",
    "print(\"Sample: \", covariance_manual_sample)\n",
    "print(\"Population: \", covariance_manual_population)"
   ]
  },
  {
   "cell_type": "markdown",
   "metadata": {},
   "source": [
    "### Example #2 Numpy Sample Covariance"
   ]
  },
  {
   "cell_type": "code",
   "execution_count": 3,
   "metadata": {},
   "outputs": [
    {
     "data": {
      "text/plain": [
       "array([[ 1.838 ,  4.1155],\n",
       "       [ 4.1155, 11.288 ]])"
      ]
     },
     "execution_count": 3,
     "metadata": {},
     "output_type": "execute_result"
    }
   ],
   "source": [
    "X = [1.9, 2.1, 3.6, 4.1, 5.1]\n",
    "Y = [7, 11, 13.4, 14.7, 15.2]\n",
    "\n",
    "cov_matrix = np.cov(X, Y)\n",
    "cov_matrix"
   ]
  },
  {
   "cell_type": "markdown",
   "metadata": {},
   "source": [
    "### Example #3 Numpy Population Covariance"
   ]
  },
  {
   "cell_type": "code",
   "execution_count": 4,
   "metadata": {},
   "outputs": [
    {
     "data": {
      "text/plain": [
       "3.2923999999999993"
      ]
     },
     "execution_count": 4,
     "metadata": {},
     "output_type": "execute_result"
    }
   ],
   "source": [
    "cov_matrix_popu = np.cov(X,Y, ddof=0)\n",
    "cov_matrix_popu[0, 1]"
   ]
  },
  {
   "cell_type": "markdown",
   "metadata": {},
   "source": [
    "### Example #4 Pandas Sample\n"
   ]
  },
  {
   "cell_type": "code",
   "execution_count": 7,
   "metadata": {},
   "outputs": [
    {
     "data": {
      "text/html": [
       "<div>\n",
       "<style scoped>\n",
       "    .dataframe tbody tr th:only-of-type {\n",
       "        vertical-align: middle;\n",
       "    }\n",
       "\n",
       "    .dataframe tbody tr th {\n",
       "        vertical-align: top;\n",
       "    }\n",
       "\n",
       "    .dataframe thead th {\n",
       "        text-align: right;\n",
       "    }\n",
       "</style>\n",
       "<table border=\"1\" class=\"dataframe\">\n",
       "  <thead>\n",
       "    <tr style=\"text-align: right;\">\n",
       "      <th></th>\n",
       "      <th>X</th>\n",
       "      <th>Y</th>\n",
       "    </tr>\n",
       "  </thead>\n",
       "  <tbody>\n",
       "    <tr>\n",
       "      <th>X</th>\n",
       "      <td>1.8380</td>\n",
       "      <td>4.1155</td>\n",
       "    </tr>\n",
       "    <tr>\n",
       "      <th>Y</th>\n",
       "      <td>4.1155</td>\n",
       "      <td>11.2880</td>\n",
       "    </tr>\n",
       "  </tbody>\n",
       "</table>\n",
       "</div>"
      ],
      "text/plain": [
       "        X        Y\n",
       "X  1.8380   4.1155\n",
       "Y  4.1155  11.2880"
      ]
     },
     "execution_count": 7,
     "metadata": {},
     "output_type": "execute_result"
    }
   ],
   "source": [
    "df = pd.DataFrame({\n",
    "    'X': X,\n",
    "    'Y': Y\n",
    "})\n",
    "\n",
    "cov_df = df.cov()\n",
    "cov_df"
   ]
  },
  {
   "cell_type": "code",
   "execution_count": 8,
   "metadata": {},
   "outputs": [
    {
     "name": "stdout",
     "output_type": "stream",
     "text": [
      "4.115499999999999\n"
     ]
    }
   ],
   "source": [
    "cov_xy = cov_df.loc['X', 'Y']\n",
    "print(cov_xy)"
   ]
  },
  {
   "cell_type": "markdown",
   "metadata": {},
   "source": [
    "### Example #5 Plotting Covariance Matrix\n"
   ]
  },
  {
   "cell_type": "code",
   "execution_count": 12,
   "metadata": {},
   "outputs": [
    {
     "data": {
      "image/png": "[encoded data removed]",
      "text/plain": [
       "<Figure size 800x600 with 2 Axes>"
      ]
     },
     "metadata": {},
     "output_type": "display_data"
    }
   ],
   "source": [
    "plt.figure(figsize=(8,6))\n",
    "sns.heatmap(cov_matrix_popu, annot=True, cmap='coolwarm', fmt=\".2f\")\n",
    "plt.title(\"Correlation Matrix\")\n",
    "\n",
    "plt.show()"
   ]
  },
  {
   "cell_type": "code",
   "execution_count": null,
   "metadata": {},
   "outputs": [],
   "source": []
  }
 ],
 "metadata": {
  "kernelspec": {
   "display_name": "Python 3",
   "language": "python",
   "name": "python3"
  },
  "language_info": {
   "codemirror_mode": {
    "name": "ipython",
    "version": 3
   },
   "file_extension": ".py",
   "mimetype": "text/x-python",
   "name": "python",
   "nbconvert_exporter": "python",
   "pygments_lexer": "ipython3",
   "version": "3.11.4"
  }
 },
 "nbformat": 4,
 "nbformat_minor": 2
}
