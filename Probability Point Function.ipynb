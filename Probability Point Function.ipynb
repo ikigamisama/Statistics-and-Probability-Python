{
 "cells": [
  {
   "cell_type": "markdown",
   "metadata": {},
   "source": [
    "# **Probability Point Function** "
   ]
  },
  {
   "cell_type": "markdown",
   "metadata": {},
   "source": [
    " also known as the quantile function, is the inverse of the Cumulative Distribution Function (CDF) in probability theory and statistics. It maps a given probability (usually between 0 and 1) to the corresponding value in the distribution, essentially returning the data value (or threshold) associated with a specific cumulative probability."
   ]
  },
  {
   "cell_type": "markdown",
   "metadata": {},
   "source": [
    "### When to Use PPF:\n",
    "#### The PPF is used when you need to:\n",
    "\n",
    "#### 1. Find the value (or threshold) corresponding to a particular probability.\n",
    "#### 2. Draw random samples from a distribution.\n",
    "#### 3. Set confidence intervals in hypothesis testing.\n",
    "#### 4. Calculate percentiles from probability distributions."
   ]
  },
  {
   "cell_type": "markdown",
   "metadata": {},
   "source": [
    "### **What you can calculate**"
   ]
  },
  {
   "cell_type": "markdown",
   "metadata": {},
   "source": [
    "1. At Percentage Below, Just use PPF with decimal \n",
    "\n",
    "2. Range of Values a. Lower %: Upper %\n",
    "\n",
    "3. At X or Higher 1 - decimal e.g top 25% = PPF(0.75)"
   ]
  },
  {
   "cell_type": "code",
   "execution_count": 2,
   "metadata": {},
   "outputs": [],
   "source": [
    "import numpy as np\n",
    "import matplotlib.pyplot as plt\n",
    "\n",
    "from scipy.stats import norm \n",
    "\n",
    "np.random.seed(17)"
   ]
  },
  {
   "cell_type": "code",
   "execution_count": 3,
   "metadata": {},
   "outputs": [
    {
     "data": {
      "text/plain": [
       "array([ 2.76265890e-01, -1.85462808e+00,  6.23901111e-01,  1.14531129e+00,\n",
       "        1.03719047e+00,  1.88663893e+00, -1.11698290e-01, -3.62101338e-01,\n",
       "        1.48675045e-01, -4.37783153e-01,  2.17125700e+00,  1.15231025e+00,\n",
       "       -1.81881234e+00, -1.38049341e-01,  5.39839614e-01, -1.77528229e+00,\n",
       "        1.31487654e+00, -4.73448047e-01, -1.09222990e+00, -2.50027442e-01,\n",
       "       -9.82294304e-01,  1.03126909e+00,  4.91333776e-01, -4.46646604e-01,\n",
       "       -8.06360082e-01,  1.31267758e-01, -1.21256024e+00,  1.59990853e-01,\n",
       "       -7.55223036e-01,  3.49895992e-01,  9.77541764e-01, -1.38585250e-01,\n",
       "        1.03856305e-01,  3.00591036e-01,  9.68205296e-01,  8.69623842e-01,\n",
       "        5.67783089e-01,  4.65282344e-01, -1.16537308e+00, -2.03599479e+00,\n",
       "       -1.15541329e+00,  3.34515739e+00,  1.26727211e-01, -6.94178896e-01,\n",
       "        5.57674431e-01,  9.91466000e-02,  6.37926174e-01,  7.03110681e-01,\n",
       "       -9.16093154e-01, -7.86014228e-01,  1.11918180e+00, -9.83396109e-01,\n",
       "        2.44520021e-01, -5.81409738e-01,  4.29563902e-01,  7.98401988e-01,\n",
       "       -6.10070049e-01,  1.18540421e+00, -7.10834005e-01, -7.81128931e-01,\n",
       "       -2.30372978e-01,  1.20195083e-01, -7.88469835e-01, -2.96012262e+00,\n",
       "       -7.95581116e-01,  2.84582250e-01,  5.22537282e-01,  8.35544439e-02,\n",
       "        2.72079559e+00,  6.11007883e-01, -8.35943995e-01, -3.69604083e-03,\n",
       "        3.93094680e-01,  6.84495084e-01,  7.75201683e-01,  5.56002886e-01,\n",
       "       -5.40979900e-01,  1.52441725e+00,  1.20838513e+00,  5.12772844e-02,\n",
       "       -4.26631209e-01,  8.07940228e-01,  5.72797618e-02, -1.04017157e+00,\n",
       "        9.34148086e-01, -1.20034542e-01,  2.20701631e+00, -3.39993078e+00,\n",
       "        1.23352890e+00, -5.87880839e-01, -9.76936921e-01,  4.68070300e-01,\n",
       "        2.87112692e+00, -1.20808568e+00,  1.00360318e+00,  1.13072645e+00,\n",
       "        5.60039692e-01, -6.18397301e-01, -2.24798719e-01,  2.21590145e+00,\n",
       "       -1.54258363e-01,  2.87607236e-01,  5.79361031e-01,  9.33250238e-01,\n",
       "        1.66961828e+00,  1.71723950e+00, -2.53650506e-01, -1.16304859e+00,\n",
       "        5.34451460e-01, -1.40903086e+00, -1.05976993e+00, -4.46122494e-01,\n",
       "       -1.16244901e+00, -6.21992296e-01,  6.09331259e-01,  6.15219619e-01,\n",
       "        5.04298030e-01, -6.75702594e-01,  1.31351616e+00,  9.03374705e-01,\n",
       "       -2.09812613e+00, -2.57774155e-01,  1.02362483e+00, -3.14660715e-01,\n",
       "        1.07290606e+00,  3.26021263e-02,  2.52525474e+00, -1.74903472e-01,\n",
       "       -8.41958342e-01,  7.66007885e-02, -6.71232823e-01, -3.17159410e-01,\n",
       "       -6.25356990e-01, -1.05763265e+00,  1.05613807e+00,  4.49174850e-03,\n",
       "        2.13829779e-01, -1.69571592e+00,  1.34807880e+00, -1.96401159e+00,\n",
       "       -2.31655471e-01,  4.43852334e-02, -1.71228715e+00,  1.61211545e+00,\n",
       "       -6.61847542e-01, -5.79168521e-01,  1.74386819e-01,  7.98872581e-01,\n",
       "        5.37396641e-01, -8.23869838e-01,  1.46161280e-01, -9.06320360e-02,\n",
       "        9.41359265e-01,  1.17733833e+00,  2.49014228e-02,  3.04999763e-01,\n",
       "        9.54573835e-01, -6.45671031e-03,  2.14866422e-01,  1.24242536e+00,\n",
       "        1.46906643e-01,  2.92558503e-01, -6.31050611e-01, -4.09046863e-01,\n",
       "        3.73772810e-02,  9.33869847e-01, -1.37860188e+00, -3.27980659e-01,\n",
       "        3.91805899e-01,  7.48321755e-01,  1.60535492e-01, -6.12092798e-01,\n",
       "        6.88495597e-01,  1.82085222e-01,  4.68058174e-01, -7.15711263e-01,\n",
       "        2.23487704e-01, -2.29553937e-01, -4.09922372e-01, -1.19473027e+00,\n",
       "       -1.21459876e+00, -1.66373475e+00,  1.28830954e+00, -6.25262877e-01,\n",
       "        1.95527549e+00, -1.89479101e+00, -2.48635236e-01,  1.29497010e+00,\n",
       "       -1.27714330e+00, -1.23068842e+00,  3.38287924e-01,  5.10285555e-01,\n",
       "        5.04135590e-02, -8.12313281e-01, -1.46796082e-01,  2.05230408e+00,\n",
       "        1.14537241e+00,  7.64799183e-02, -8.60655465e-01, -3.87698979e-01,\n",
       "        1.60496014e+00,  1.09886186e+00, -1.60317486e+00, -8.21062750e-01,\n",
       "        5.58885749e-01,  1.81887602e+00, -1.53096258e+00,  8.74888845e-02,\n",
       "        1.33795127e+00,  1.13039270e+00, -1.44179766e+00, -6.86805114e-01,\n",
       "        4.66132683e-01, -5.51805412e-01,  6.22510910e-01, -2.71461716e-02,\n",
       "        1.24239980e+00, -1.65388964e+00, -3.38410151e-01,  1.40561146e+00,\n",
       "       -1.12776834e+00,  6.46751220e-01, -7.11161961e-01, -4.80186147e-01,\n",
       "        1.30799542e+00,  9.56468966e-01,  1.02490403e+00, -1.29516120e+00,\n",
       "        3.37329479e-01,  2.65698062e-01,  9.96430446e-01,  1.25677661e+00,\n",
       "       -2.21612420e+00, -3.28709305e-01,  1.21517843e-01,  5.05757284e-01,\n",
       "       -5.22334998e-01, -5.91773532e-01,  8.29245864e-03,  4.01679725e-01,\n",
       "        1.87760524e+00, -5.44596782e-01,  3.76191525e-01, -7.11177440e-01,\n",
       "        1.95104048e+00, -7.58991812e-01,  2.29271529e-01,  1.40683388e+00,\n",
       "       -1.06941278e+00, -1.21943649e+00,  6.35158778e-01, -6.39899463e-01,\n",
       "        1.60005952e+00, -7.30532115e-01, -1.00961838e+00, -1.00258633e+00,\n",
       "        6.81836974e-02, -2.09458020e+00,  2.04004523e-01,  3.88142617e-01,\n",
       "       -1.75707828e+00, -4.82439297e-01, -5.07726121e-01,  1.38866649e+00,\n",
       "        6.05542752e-02, -4.89300150e-02, -5.48796779e-01,  1.07547275e+00,\n",
       "        8.33416861e-01, -1.47583658e+00,  7.47123676e-01,  1.00258257e+00,\n",
       "        2.25851697e-01,  9.75275479e-01,  7.38482425e-01, -1.53902354e+00,\n",
       "       -6.14670936e-01,  2.08148067e-01, -1.87901575e-01, -8.63169593e-01,\n",
       "       -1.23754406e+00, -1.29235042e+00, -1.99923375e+00, -7.38216820e-02,\n",
       "       -2.76818051e-01, -1.36027232e+00,  5.85572699e-01, -9.75288009e-01,\n",
       "       -1.64405171e+00, -1.27124784e+00, -1.05299662e+00,  2.79299897e-01,\n",
       "       -8.25069973e-01,  3.21106365e-01, -1.13744064e-01,  1.35794504e+00,\n",
       "       -1.15450322e-01, -7.63713608e-01, -2.75919108e+00, -1.56172362e-01,\n",
       "        8.44182050e-01, -9.58334020e-02, -4.70025348e-02,  2.76799411e-01,\n",
       "       -1.25998399e-01,  5.39846615e-01, -8.31246894e-01, -1.99621568e-01,\n",
       "       -5.53067743e-01,  8.96217817e-01,  1.57226703e+00,  1.63260011e+00,\n",
       "       -4.75981491e-01, -1.65826168e-02,  5.42320124e-01, -2.70748644e-01,\n",
       "       -1.15821899e+00,  1.27430904e-01, -2.99324649e-01, -1.10132653e+00,\n",
       "        2.62414379e-01, -3.14689063e-01, -1.38047171e+00, -2.84186836e-01,\n",
       "        1.06063756e+00,  1.05415661e+00,  6.39053953e-01, -1.69926030e-02,\n",
       "        2.79993674e-01, -1.96139777e-01,  6.56372357e-02, -8.66537747e-01,\n",
       "        1.06313130e+00, -7.41195142e-01,  1.40115879e+00, -2.14391785e+00,\n",
       "       -5.45687320e-01, -6.08990875e-02,  7.10621054e-01,  7.78455628e-01,\n",
       "       -4.57658435e-01,  7.13972881e-01,  7.43844898e-01, -2.37382746e-01,\n",
       "        7.04660953e-01, -1.52292921e+00, -5.73171789e-01,  6.94174875e-01,\n",
       "       -1.40548161e-01,  3.76424269e-01, -8.31643250e-01, -8.60531166e-03,\n",
       "       -1.07510783e+00, -1.41227181e+00, -1.13223204e+00,  1.12669073e+00,\n",
       "       -5.22044705e-01,  5.73078734e-01, -1.45314130e+00, -5.00657049e-01,\n",
       "        7.65903695e-01,  4.03440038e-02,  1.63162589e-01, -2.41323235e+00,\n",
       "        2.69743491e+00,  2.82177845e-01, -1.54692848e+00, -2.69481745e-01,\n",
       "       -9.58712869e-01,  3.57147239e-01, -1.03292106e+00,  2.91738284e-01,\n",
       "        2.97558402e-01, -5.94011589e-01,  5.90385111e-01, -3.28830007e-02,\n",
       "       -6.50595810e-01, -9.98152630e-02, -3.88176101e-02, -1.63363821e-01,\n",
       "        1.94690092e-02, -3.21697914e-01,  1.14097440e+00,  1.73648056e-01,\n",
       "        1.03819775e+00,  1.30500165e+00,  5.98966349e-02,  8.99940386e-01,\n",
       "       -6.45463133e-02, -3.77469922e-01,  1.29161788e+00,  6.83931390e-01,\n",
       "        1.00322861e-01, -6.50395673e-01,  4.45060596e-01,  5.93534051e-01,\n",
       "       -2.37533825e-01,  8.54150443e-02,  2.67101768e-01, -1.63248994e+00,\n",
       "        1.69559170e+00,  7.34835442e-01, -1.92497617e+00,  1.34669340e+00,\n",
       "        7.77018227e-01, -7.12325803e-01, -1.05445616e+00, -8.11897101e-04,\n",
       "       -7.18543141e-01,  3.35663427e-01,  1.51815600e+00, -1.46220668e+00,\n",
       "       -3.06518967e-02,  1.62841975e+00,  1.99069115e+00,  3.73101407e-01,\n",
       "       -5.86779793e-01,  6.08450443e-01, -8.73553676e-01, -8.82976220e-01,\n",
       "        1.28891927e+00,  1.99780251e-01,  5.41618083e-01, -1.05763960e+00,\n",
       "       -3.59528303e-01, -4.73926413e-01, -9.39100785e-01,  4.51052934e-01,\n",
       "        1.70481083e-01, -9.04989612e-01,  9.89786737e-01, -4.24351522e-01,\n",
       "       -1.28091610e+00, -5.65023325e-01,  1.30940574e-01, -3.57231659e-03,\n",
       "       -3.68885975e-01,  7.76707451e-01,  4.06895008e-01, -1.62941873e+00,\n",
       "       -1.18936845e+00,  3.21471706e+00,  1.78220886e+00, -1.53933877e+00,\n",
       "        2.25345758e+00, -7.01670243e-01, -4.86340843e-01, -3.60236216e-01,\n",
       "        2.67475309e-01,  1.66602707e+00,  1.54884099e+00,  1.50520039e+00,\n",
       "        6.59369966e-01,  4.68969031e-01, -1.20325031e-01, -7.49201865e-01,\n",
       "        2.24423531e+00, -4.62561236e-01, -1.59327557e+00,  1.24967112e+00,\n",
       "       -7.17133515e-01,  4.86720245e-01,  3.85265621e-01, -1.51058133e+00,\n",
       "        1.28364781e-02,  5.41311091e-01, -1.17522751e+00,  7.09861217e-01,\n",
       "        2.98982572e-02,  2.19720979e-02,  1.12987583e+00,  4.40524216e-01,\n",
       "       -8.66987761e-01, -9.42787551e-01,  8.84023911e-01, -2.60833203e-01,\n",
       "       -6.85006278e-02, -5.33898706e-01,  6.01583653e-01, -2.19600593e-01,\n",
       "       -6.89746159e-01,  3.00665800e-01,  4.65696605e-01,  2.59323097e+00,\n",
       "       -1.12672801e+00,  1.11613394e+00, -6.41387067e-01,  2.81119025e-02,\n",
       "        8.21958767e-01,  2.62844767e-01,  1.39199020e+00,  4.25380429e-01,\n",
       "       -2.18525820e-01, -7.09529310e-02, -3.25206798e+00, -9.15733358e-01,\n",
       "        4.79595235e-01,  9.03592637e-01,  5.89320767e-01,  5.85070355e-01,\n",
       "       -3.85483545e-01,  2.23658667e+00, -2.42006507e+00,  2.98372441e-01,\n",
       "       -1.36466656e+00,  3.25012465e-01,  8.82513703e-01, -6.72344169e-01,\n",
       "       -1.31313737e+00, -1.22014969e+00, -4.28446180e-01, -1.81152021e+00,\n",
       "        1.63950814e+00, -2.69128852e-01,  1.52607317e+00, -5.68187288e-01,\n",
       "        7.37812303e-01,  1.37242540e-01,  1.24825537e-01, -5.53297799e-01,\n",
       "        1.72835973e+00, -2.05269473e-01,  3.79191638e-01,  5.07062362e-01,\n",
       "       -1.63156992e-01, -7.41709913e-01, -1.89698452e+00,  4.01001758e-02,\n",
       "       -1.09953724e+00, -2.37970666e-01,  7.99613893e-01,  1.08457428e+00,\n",
       "        1.64650058e-01, -4.75875948e-02,  7.46337888e-01,  5.78498278e-01,\n",
       "        1.42650764e+00, -8.55669360e-01,  8.35961006e-01, -4.92179186e-01,\n",
       "        1.20642186e+00, -6.00784833e-01, -1.14048459e+00,  8.18497922e-01,\n",
       "        1.14971957e+00,  9.77876718e-01, -5.57674866e-01,  6.63340920e-01,\n",
       "        1.55078227e+00,  5.87114277e-01,  2.07617560e-01,  4.21393689e-01,\n",
       "        7.26272147e-01,  1.37132474e+00,  1.14551851e+00, -5.16246737e-01,\n",
       "       -1.90266491e+00,  9.07711124e-01, -1.40566008e+00, -3.21316588e-01,\n",
       "       -1.40606861e+00,  1.28721235e+00, -1.12135398e+00, -6.14943138e-01,\n",
       "        7.63712615e-01,  7.07845576e-01, -1.47036418e+00, -1.52827995e+00,\n",
       "        8.25278808e-01,  1.43402568e+00,  7.30427668e-01,  6.02783044e-01,\n",
       "       -9.14963425e-01,  1.96574651e+00, -1.17175015e+00,  1.25959978e+00,\n",
       "       -5.06090635e-01, -6.60506717e-01, -3.80224611e-02, -6.89014344e-01,\n",
       "        3.12005380e-02,  1.12874007e+00,  7.60346552e-01,  3.99655506e-01,\n",
       "       -1.11334269e-01,  4.09476007e-01,  1.89801322e+00, -1.74965109e+00,\n",
       "        6.73286933e-01, -5.65076653e-02,  1.15934322e+00, -2.61876612e+00,\n",
       "        1.49494046e-01,  4.77578021e-02, -1.53502500e+00,  1.60435883e-01,\n",
       "       -2.87728650e-01,  1.90000667e-01,  5.27728430e-01, -1.00068598e+00,\n",
       "       -3.83289879e-01,  3.67848242e-01,  2.66955393e+00,  1.13279966e+00,\n",
       "       -7.95870799e-01,  1.66039293e+00,  4.24059364e-03, -2.99585937e-01,\n",
       "       -1.84241955e-02,  3.98001400e-01,  6.11065029e-01, -1.72660456e+00,\n",
       "        2.95727332e-01,  1.14036696e+00, -2.98002186e-01,  1.13136844e+00,\n",
       "        1.33998987e-01, -9.30034184e-01,  1.41943917e+00, -6.01756591e-01,\n",
       "       -2.71846829e-01,  5.87637674e-01,  4.52636647e-01,  4.84799841e-01,\n",
       "        1.62167038e+00,  1.04849771e-01, -1.14033213e+00, -1.99913432e-01,\n",
       "       -3.21939150e-01, -7.77646370e-01, -5.29304457e-01, -6.87764462e-02,\n",
       "        1.65182573e+00, -1.56738387e+00, -9.74085997e-01,  1.10416573e+00,\n",
       "        2.22460195e+00,  1.64051289e+00,  1.52120165e+00,  1.48738347e+00,\n",
       "        1.25403751e+00, -1.47450343e-02,  1.28080019e-01, -9.84076539e-01,\n",
       "       -6.53183429e-01,  5.80714596e-02, -2.56889014e-01, -3.05951955e-01,\n",
       "       -1.34034471e+00,  1.37109044e+00, -7.51308798e-01,  1.67666301e+00,\n",
       "       -5.97313032e-01,  1.66089288e+00,  6.81739216e-01, -2.84376966e+00,\n",
       "       -5.96680259e-01, -9.61138082e-01,  1.22960411e+00,  2.26575726e-01,\n",
       "       -5.91606609e-04,  1.21198239e-01, -6.85842500e-01,  2.76856397e-01,\n",
       "       -1.24044032e+00, -7.74313972e-01,  1.28378096e+00, -5.31044794e-01,\n",
       "       -1.86664296e+00,  6.56911214e-01,  2.27470356e-01, -1.60077519e+00,\n",
       "       -2.84934042e-01,  9.67087816e-03, -2.10587636e+00,  3.30522148e-01,\n",
       "       -2.07017197e+00,  1.27676200e-01,  2.16149292e-01,  9.94935658e-01,\n",
       "        4.78413482e-01,  1.31469785e+00,  4.02629002e-01,  4.98588706e-01,\n",
       "        4.57270748e-01,  5.15717973e-01,  1.24989038e+00,  5.83276031e-01,\n",
       "        1.06527280e-01,  7.68609502e-03, -1.45454472e+00,  3.29502936e-01,\n",
       "        1.43333392e+00, -2.02298779e+00,  1.10360723e+00, -1.25773701e-01,\n",
       "       -4.05146942e-01,  5.75873377e-01,  3.70747692e+00,  1.70128645e+00,\n",
       "       -3.28510765e-02, -3.72586456e-03, -3.11356667e+00,  2.37697266e-03,\n",
       "        1.48247952e+00, -1.88414204e+00,  7.20916373e-01,  8.00442130e-01,\n",
       "        1.14288085e+00, -2.13234172e+00,  1.76478536e+00,  8.27663671e-02,\n",
       "        1.50590595e-01, -5.12558280e-01, -2.17325617e-01,  1.28454194e+00,\n",
       "       -2.83520010e-01, -1.88880356e+00, -5.14400739e-01, -2.01148290e+00,\n",
       "        2.54638213e-01,  6.34546184e-01, -1.61563829e+00, -9.27207762e-01,\n",
       "        1.19041183e-01,  4.68653637e-01,  4.48931455e-01, -1.67607723e+00,\n",
       "       -1.83231559e+00, -9.90298804e-02,  5.19483050e-01, -1.67286806e+00,\n",
       "       -8.54847778e-01, -1.10321954e+00, -5.68219618e-02, -4.32453697e-01,\n",
       "        4.49115457e-01,  5.54026614e-01,  1.25426230e+00,  3.37526106e-01,\n",
       "        6.09251269e-03,  7.38650214e-01, -2.64865318e-01,  2.85387126e-02,\n",
       "        6.79906618e-01, -1.28119004e+00,  1.44528899e+00,  1.30634118e+00,\n",
       "       -1.38549888e+00,  5.92519200e-01, -3.85339024e-01, -5.30304963e-01,\n",
       "       -4.06244626e-01, -1.74097096e+00,  8.15548502e-01,  1.31492193e+00,\n",
       "       -1.08625385e-01, -8.64276797e-01, -1.07456774e+00, -5.89429262e-02,\n",
       "        3.45864447e-01, -1.22355972e+00,  1.51512645e-01, -1.42126737e+00,\n",
       "       -3.72808163e-01, -1.31099047e+00, -2.42213698e+00, -9.36335329e-01,\n",
       "        1.36829280e+00,  4.89214823e-01,  1.33360086e+00,  5.42553114e-01,\n",
       "        6.51565965e-01, -9.70313550e-01,  1.30906688e+00, -9.61398525e-01,\n",
       "        1.26012112e+00,  1.99042163e+00,  9.09841595e-01, -9.40306204e-01,\n",
       "        9.85666951e-01, -6.44476120e-01,  1.54334170e+00,  6.53431498e-01,\n",
       "       -6.09993368e-02, -1.36345085e-01, -3.59697745e-01,  2.31187483e-02,\n",
       "       -2.79565673e-01, -1.46364462e+00, -2.54987637e+00,  1.46581722e+00,\n",
       "        1.04790957e+00,  2.99758896e-01,  4.06433452e-01, -2.98387611e+00,\n",
       "       -1.16506917e+00,  4.60411014e-01, -9.27504881e-01, -4.27743833e-01,\n",
       "        1.54209648e+00,  4.22388363e-01, -2.46648654e-01,  1.76330960e-01,\n",
       "       -5.64764209e-01, -5.10813393e-01, -5.77948870e-01, -1.02004626e+00,\n",
       "       -5.17418809e-01,  9.72315623e-01, -2.04170917e-01,  8.87358384e-01,\n",
       "        1.84897427e+00,  7.97306851e-01, -2.50088481e+00, -6.40217262e-01,\n",
       "        5.26826297e-01,  1.24079647e+00, -1.22593455e+00,  2.60264328e+00,\n",
       "       -9.20897111e-01,  1.09406017e+00, -4.84418779e-02,  1.60698145e-01,\n",
       "       -4.35127808e-01, -8.58017211e-01, -7.57007289e-01,  5.54386560e-01,\n",
       "       -8.08160882e-01,  1.67805070e-01, -7.61390294e-01,  1.20800238e+00,\n",
       "       -4.47892000e-01,  2.15851375e+00,  4.13358699e-01, -2.13244437e+00,\n",
       "       -8.97702761e-02,  1.01158454e-01,  4.59073525e-01, -1.15355987e-01,\n",
       "        1.31883354e+00,  1.90726204e-01,  8.24381178e-01, -2.65896912e-01,\n",
       "       -4.38484044e-01, -3.32977838e-01, -4.87497875e-01, -3.14346989e-01,\n",
       "        1.91130148e-01, -8.21944109e-01,  8.46244831e-01,  1.62182783e+00,\n",
       "        1.46026414e+00, -1.24891911e-01, -1.84700385e+00,  6.03510854e-01,\n",
       "        5.52306069e-01,  8.31518545e-01, -5.78459635e-01, -2.22953664e-01,\n",
       "        5.92431002e-01, -1.33782891e+00, -1.08015020e+00, -6.52986269e-01,\n",
       "       -3.62954772e-01, -4.46238846e-02,  6.65889456e-01, -5.29092741e-01,\n",
       "       -7.28737594e-01, -5.87522399e-02, -1.58653286e-01, -5.07962418e-01,\n",
       "        4.61848556e-01, -1.14174345e+00,  3.26654049e-01,  6.64263198e-01,\n",
       "        5.59323166e-02,  6.31498032e-01,  4.94956727e-01,  2.17503886e+00,\n",
       "        6.47098814e-01, -1.60772963e+00, -4.22681499e-01, -7.55208194e-01,\n",
       "        7.94811211e-01, -6.09249314e-01, -1.61323261e+00,  4.52678775e-01,\n",
       "       -1.35590216e+00, -7.25235434e-01, -2.17563041e-01,  6.84030717e-01,\n",
       "       -9.95240475e-02, -5.89081232e-01,  9.10539665e-01, -1.61693061e-01,\n",
       "        5.09289880e-03, -1.18065915e+00, -1.63831580e+00, -3.23091541e-01,\n",
       "        1.63343257e+00,  1.50561313e+00, -5.48877346e-01, -1.59249751e+00,\n",
       "        4.14861311e-01, -8.60772766e-02, -1.23034821e+00, -1.13200454e-01,\n",
       "       -1.54995131e-02,  9.77439525e-01,  4.47686046e-01,  1.33349338e+00,\n",
       "       -3.00151424e-01,  9.31308426e-01, -1.14801421e+00, -6.57734391e-01,\n",
       "        9.02811271e-01,  1.38394392e+00, -3.40951676e-01, -1.22935496e+00,\n",
       "        1.32069504e+00, -4.84753781e-01, -2.78900193e-01,  1.40200470e-01,\n",
       "        2.00487334e+00,  1.30907281e-01,  1.03003706e+00,  3.18983445e-01,\n",
       "       -7.64297791e-01,  9.32692240e-01,  5.32551553e-01,  3.26312972e-01,\n",
       "       -9.50538490e-02,  2.18812760e+00,  5.29109689e-01,  8.32195991e-01,\n",
       "        1.59433759e-01,  8.91359922e-02, -8.72602823e-01,  7.02999395e-01,\n",
       "        9.44693741e-01, -1.60667932e-01,  8.57830146e-01, -2.39166096e+00,\n",
       "        1.15641222e+00, -2.70937229e-01, -6.56541160e-01, -6.76848761e-01,\n",
       "       -1.12228400e+00, -3.17691075e-01,  3.47606278e-01, -7.52361735e-01,\n",
       "        1.73779769e-01, -1.65630864e-03, -1.20368538e+00, -1.68181390e-01,\n",
       "        5.49005375e-01,  5.86038385e-01, -1.65417300e+00,  4.68667424e-01,\n",
       "       -6.34300380e-01, -6.57136840e-01, -8.45364755e-01,  8.26308700e-01,\n",
       "       -1.14519706e+00, -1.12411115e+00,  1.58899265e+00, -9.09397965e-01,\n",
       "       -5.35926663e-02,  5.51741538e-01, -2.74082060e-01,  7.80792658e-01,\n",
       "       -1.33680509e-01,  8.08522707e-01,  2.86446729e-01,  4.44088905e-01,\n",
       "       -1.93852857e-01, -4.43973295e-01,  2.21141850e-01,  4.31948990e-02,\n",
       "        4.58331287e-01,  6.72352524e-01, -4.06283990e-01, -5.62156352e-01,\n",
       "       -8.52791922e-03,  5.29717498e-01, -8.86652997e-02,  3.92923993e-01,\n",
       "        9.16508162e-01,  1.24598118e+00,  7.36884114e-01,  1.51909567e+00,\n",
       "        1.06342130e+00, -1.73120451e+00, -4.97604067e-01,  2.39556698e-01,\n",
       "        1.54174998e+00, -3.69829849e-01, -1.45104400e+00, -2.13351837e-01])"
      ]
     },
     "execution_count": 3,
     "metadata": {},
     "output_type": "execute_result"
    }
   ],
   "source": [
    "mean = 0\n",
    "std_dev = 1\n",
    "n = 1000\n",
    "\n",
    "\n",
    "data = np.random.normal(loc=mean, scale=std_dev, size=n)\n",
    "data"
   ]
  },
  {
   "cell_type": "markdown",
   "metadata": {},
   "source": [
    "### Example #1"
   ]
  },
  {
   "cell_type": "code",
   "execution_count": 5,
   "metadata": {},
   "outputs": [
    {
     "data": {
      "text/plain": [
       "-0.8356979004122052"
      ]
     },
     "execution_count": 5,
     "metadata": {},
     "output_type": "execute_result"
    }
   ],
   "source": [
    "ppf_20 = norm.ppf(0.2, loc=data.mean(), scale=data.std())\n",
    "ppf_20"
   ]
  },
  {
   "cell_type": "code",
   "execution_count": 6,
   "metadata": {},
   "outputs": [
    {
     "data": {
      "text/plain": [
       "0.5555147365013089"
      ]
     },
     "execution_count": 6,
     "metadata": {},
     "output_type": "execute_result"
    }
   ],
   "source": [
    "ppf_70 = norm.ppf(0.7, loc=data.mean(), scale=data.std())\n",
    "ppf_70"
   ]
  },
  {
   "cell_type": "markdown",
   "metadata": {},
   "source": [
    "### Example #2 Find the Data Points between 25 and 50%"
   ]
  },
  {
   "cell_type": "code",
   "execution_count": 7,
   "metadata": {},
   "outputs": [
    {
     "name": "stdout",
     "output_type": "stream",
     "text": [
      "-0.6654843351208896\n",
      "0.02144372184170615\n"
     ]
    }
   ],
   "source": [
    "ppf_25 = norm.ppf(0.25, loc=data.mean(), scale=data.std())\n",
    "ppf_50 = norm.ppf(0.5, loc=data.mean(), scale=data.std())\n",
    "\n",
    "print(ppf_25)\n",
    "print(ppf_50)"
   ]
  },
  {
   "cell_type": "markdown",
   "metadata": {},
   "source": [
    "### Example #3 Top 20% of values"
   ]
  },
  {
   "cell_type": "code",
   "execution_count": 8,
   "metadata": {},
   "outputs": [
    {
     "data": {
      "text/plain": [
       "0.8785853440956176"
      ]
     },
     "execution_count": 8,
     "metadata": {},
     "output_type": "execute_result"
    }
   ],
   "source": [
    "ppf_top_20 = norm.ppf((1-0.2), loc=data.mean(), scale=data.std())\n",
    "ppf_top_20"
   ]
  },
  {
   "cell_type": "markdown",
   "metadata": {},
   "source": [
    "### Example #4 Numpy percentile"
   ]
  },
  {
   "cell_type": "code",
   "execution_count": 10,
   "metadata": {},
   "outputs": [
    {
     "data": {
      "text/plain": [
       "0.5548714576542878"
      ]
     },
     "execution_count": 10,
     "metadata": {},
     "output_type": "execute_result"
    }
   ],
   "source": [
    "ppf_70 = np.percentile(data, 70)\n",
    "ppf_70"
   ]
  },
  {
   "cell_type": "markdown",
   "metadata": {},
   "source": [
    "### Example #5 Graph Matplot Lib"
   ]
  },
  {
   "cell_type": "code",
   "execution_count": 12,
   "metadata": {},
   "outputs": [
    {
     "data": {
      "image/png": "[encoded data removed]",
      "text/plain": [
       "<Figure size 640x480 with 1 Axes>"
      ]
     },
     "metadata": {},
     "output_type": "display_data"
    },
    {
     "ename": "",
     "evalue": "",
     "output_type": "error",
     "traceback": [
      "\u001b[1;31mThe Kernel crashed while executing code in the current cell or a previous cell. \n",
      "\u001b[1;31mPlease review the code in the cell(s) to identify a possible cause of the failure. \n",
      "\u001b[1;31mClick <a href='https://aka.ms/vscodeJupyterKernelCrash'>here</a> for more info. \n",
      "\u001b[1;31mView Jupyter <a href='command:jupyter.viewOutput'>log</a> for further details."
     ]
    }
   ],
   "source": [
    "sorted_data = np.sort(data)\n",
    "cumulative_probabilities = np.linspace(0,1, len(sorted_data), endpoint=False)\n",
    "\n",
    "plt.plot(cumulative_probabilities, sorted_data, marker=\"o\", linestyle=\"none\", label=\"PPF\")\n",
    "plt.title(\"PPF of Normally Distributed Data\")\n",
    "plt.xlabel(\"Cumulative Probability\")\n",
    "plt.ylabel(\"Data Values\")\n",
    "plt.legend()\n",
    "\n",
    "plt.grid(True)\n",
    "plt.show()"
   ]
  },
  {
   "cell_type": "code",
   "execution_count": null,
   "metadata": {},
   "outputs": [],
   "source": []
  }
 ],
 "metadata": {
  "kernelspec": {
   "display_name": "Python 3",
   "language": "python",
   "name": "python3"
  },
  "language_info": {
   "codemirror_mode": {
    "name": "ipython",
    "version": 3
   },
   "file_extension": ".py",
   "mimetype": "text/x-python",
   "name": "python",
   "nbconvert_exporter": "python",
   "pygments_lexer": "ipython3",
   "version": "3.11.4"
  }
 },
 "nbformat": 4,
 "nbformat_minor": 2
}
