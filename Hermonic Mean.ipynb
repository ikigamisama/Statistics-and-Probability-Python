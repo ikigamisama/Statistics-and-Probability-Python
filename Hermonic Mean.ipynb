{
 "cells": [
  {
   "cell_type": "markdown",
   "metadata": {},
   "source": [
    "# **Harmonic Mean** "
   ]
  },
  {
   "cell_type": "markdown",
   "metadata": {},
   "source": [
    " is a type of average that is useful in situations where the rates or ratios are more important than absolute values. Unlike the arithmetic mean (which adds up values and divides by the number of values), the harmonic mean emphasizes smaller values more heavily, making it especially effective for calculating averages of rates or proportions."
   ]
  },
  {
   "cell_type": "markdown",
   "metadata": {},
   "source": [
    "The harmonic mean is particularly useful in the following cases:\n",
    "\n",
    "1. Rates and Ratios: When dealing with data that involves rates (like speed, density, or frequency), the harmonic mean provides a more accurate average. For example, if you are calculating the average speed over different distances, using the harmonic mean will give you the correct result.\n",
    "\n",
    "2. Resisting Impact of Large Outliers: When large values (outliers) should not dominate the average, the harmonic mean reduces their impact, because it gives more weight to smaller numbers."
   ]
  },
  {
   "cell_type": "markdown",
   "metadata": {},
   "source": [
    "### **Calculation**"
   ]
  },
  {
   "cell_type": "markdown",
   "metadata": {},
   "source": [
    "#### - Runner A: 5 Miles at 8 MPH \n",
    "\n",
    "#### - Runner B: 5 Miles at 8 MPH \n",
    "\n",
    "#### Find the harmonic mean over 10 miles \n",
    "\n",
    "#### 1. Find the length N = 2\n",
    "\n",
    "#### 2. Get the reciprocals 1/8 | 1/12\n",
    "\n",
    "#### 3. Put the equation together 2/((1/8) + (1/12))"
   ]
  },
  {
   "cell_type": "code",
   "execution_count": 1,
   "metadata": {},
   "outputs": [],
   "source": [
    "import statistics as st \n",
    "from scipy.stats import hmean"
   ]
  },
  {
   "cell_type": "markdown",
   "metadata": {},
   "source": [
    "### Example #1"
   ]
  },
  {
   "cell_type": "code",
   "execution_count": 3,
   "metadata": {},
   "outputs": [
    {
     "data": {
      "text/plain": [
       "5.382822902796273"
      ]
     },
     "execution_count": 3,
     "metadata": {},
     "output_type": "execute_result"
    }
   ],
   "source": [
    "runners = [4,3,5,7,11,12,5]\n",
    "\n",
    "n = len(runners)\n",
    "reciprocal_sum = sum(1/x for x in runners)\n",
    "\n",
    "harmonic_mean_manual = n / reciprocal_sum\n",
    "\n",
    "harmonic_mean_manual\n"
   ]
  },
  {
   "cell_type": "markdown",
   "metadata": {},
   "source": [
    "### Example #2"
   ]
  },
  {
   "cell_type": "code",
   "execution_count": 4,
   "metadata": {},
   "outputs": [
    {
     "data": {
      "text/plain": [
       "5.3828229027962715"
      ]
     },
     "execution_count": 4,
     "metadata": {},
     "output_type": "execute_result"
    }
   ],
   "source": [
    "harmonic_mean_stats = st.harmonic_mean(runners)\n",
    "harmonic_mean_stats"
   ]
  },
  {
   "cell_type": "markdown",
   "metadata": {},
   "source": [
    "### Example #3 Scipy"
   ]
  },
  {
   "cell_type": "code",
   "execution_count": 7,
   "metadata": {},
   "outputs": [
    {
     "data": {
      "text/plain": [
       "5.382822902796273"
      ]
     },
     "execution_count": 7,
     "metadata": {},
     "output_type": "execute_result"
    }
   ],
   "source": [
    "harmonic_mean_scipy = hmean(runners)\n",
    "harmonic_mean_scipy"
   ]
  },
  {
   "cell_type": "markdown",
   "metadata": {},
   "source": [
    "### Example #4 Investments"
   ]
  },
  {
   "cell_type": "code",
   "execution_count": 10,
   "metadata": {},
   "outputs": [
    {
     "data": {
      "text/plain": [
       "3.181818181818182"
      ]
     },
     "execution_count": 10,
     "metadata": {},
     "output_type": "execute_result"
    },
    {
     "ename": "",
     "evalue": "",
     "output_type": "error",
     "traceback": [
      "\u001b[1;31mThe Kernel crashed while executing code in the current cell or a previous cell. \n",
      "\u001b[1;31mPlease review the code in the cell(s) to identify a possible cause of the failure. \n",
      "\u001b[1;31mClick <a href='https://aka.ms/vscodeJupyterKernelCrash'>here</a> for more info. \n",
      "\u001b[1;31mView Jupyter <a href='command:jupyter.viewOutput'>log</a> for further details."
     ]
    }
   ],
   "source": [
    "investments_returns = [4,6,8,8,3,1,5]\n",
    "investments_decimal = [r/100 for r in investments_returns]\n",
    "\n",
    "harmonic_mean_scipy2 = hmean(investments_decimal)\n",
    "harmonic_mean_invest_return = harmonic_mean_scipy2 * 100\n",
    "\n",
    "harmonic_mean_invest_return"
   ]
  },
  {
   "cell_type": "code",
   "execution_count": null,
   "metadata": {},
   "outputs": [],
   "source": []
  }
 ],
 "metadata": {
  "kernelspec": {
   "display_name": "Python 3",
   "language": "python",
   "name": "python3"
  },
  "language_info": {
   "codemirror_mode": {
    "name": "ipython",
    "version": 3
   },
   "file_extension": ".py",
   "mimetype": "text/x-python",
   "name": "python",
   "nbconvert_exporter": "python",
   "pygments_lexer": "ipython3",
   "version": "3.11.4"
  }
 },
 "nbformat": 4,
 "nbformat_minor": 2
}
