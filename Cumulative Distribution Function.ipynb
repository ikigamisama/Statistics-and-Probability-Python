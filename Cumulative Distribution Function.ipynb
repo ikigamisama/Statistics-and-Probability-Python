{
 "cells": [
  {
   "cell_type": "markdown",
   "metadata": {},
   "source": [
    "# **Cumulative Distribution Function** "
   ]
  },
  {
   "cell_type": "markdown",
   "metadata": {},
   "source": [
    "is a fundamental concept in probability and statistics. It describes the probability that a random variable X takes a value less than or equal to a certain value x. In other words, the CDF gives the cumulative probability up to a given point in the distribution of the random variable."
   ]
  },
  {
   "cell_type": "markdown",
   "metadata": {},
   "source": [
    "### When to Use CDF:\n",
    "#### The CDF is useful in various situations, particularly when you want to:\n",
    "\n",
    "#### 1. **Determine Probabilities**: It allows you to calculate the probability that a random variable will fall within a specific range.\n",
    "#### 2. **Analyze Data Distributions**: You can understand the spread and behavior of a dataset.\n",
    "#### 3. **Compute Percentiles**: You can find specific percentiles or quantiles from a dataset or distribution using the CDF.\n",
    "#### 4. **Plot the Distribution**: Plotting the CDF can give a visual representation of how the probabilities accumulate."
   ]
  },
  {
   "cell_type": "code",
   "execution_count": 1,
   "metadata": {},
   "outputs": [],
   "source": [
    "import numpy as np\n",
    "import matplotlib.pyplot as plt\n",
    "import seaborn as sns\n",
    "from scipy.stats import norm"
   ]
  },
  {
   "cell_type": "markdown",
   "metadata": {},
   "source": [
    "### Example #1"
   ]
  },
  {
   "cell_type": "code",
   "execution_count": 2,
   "metadata": {},
   "outputs": [
    {
     "data": {
      "text/plain": [
       "[0.2, 0.6, 0.6, 0.8, 1.0]"
      ]
     },
     "execution_count": 2,
     "metadata": {},
     "output_type": "execute_result"
    }
   ],
   "source": [
    "data = [2,3,3,5,7]\n",
    "\n",
    "sorted_data = np.sort(data)\n",
    "data_n = len(sorted_data)\n",
    "cdf_values = [np.sum(sorted_data <= sorted_data[i]) / data_n for i in range(data_n)]\n",
    "\n",
    "cdf_values"
   ]
  },
  {
   "cell_type": "markdown",
   "metadata": {},
   "source": [
    "### Example #2 CDF at a single point"
   ]
  },
  {
   "cell_type": "code",
   "execution_count": 3,
   "metadata": {},
   "outputs": [
    {
     "data": {
      "text/plain": [
       "array([ 4.72985831e-01, -6.81425879e-01,  2.42439497e-01, -1.70073563e+00,\n",
       "        7.53142834e-01, -1.53472134e+00,  5.12707813e-03, -1.20227670e-01,\n",
       "       -8.06981879e-01,  2.87181939e+00, -5.97822919e-01,  4.72456994e-01,\n",
       "        1.09595612e+00, -1.21516880e+00,  1.34235637e+00, -1.22149788e-01,\n",
       "        1.01251548e+00, -9.13869147e-01, -1.02953021e+00,  1.20979645e+00,\n",
       "        5.01872304e-01,  1.38846177e-01,  6.40761113e-01,  5.27332665e-01,\n",
       "       -1.15436024e+00, -2.21333348e+00, -1.68175651e+00, -1.78809425e+00,\n",
       "       -2.21853495e+00, -6.47430780e-01, -5.28404321e-01, -3.92091748e-02,\n",
       "        2.14975948e-01, -3.84358803e-01, -2.53904078e-01,  7.32520746e-02,\n",
       "       -9.97203837e-01, -7.13856288e-01,  3.54163461e-02, -6.77945365e-01,\n",
       "       -5.71881062e-01, -1.05862315e-01,  1.33583134e+00,  3.18665288e-01,\n",
       "       -3.37595250e-01, -5.85268278e-01, -1.14919941e-01,  2.24181779e+00,\n",
       "       -3.14741652e+00,  5.35135893e-01,  2.32490439e-01,  8.67611951e-01,\n",
       "       -1.14821271e+00,  2.11434424e+00,  1.00094276e+00, -5.14149953e-02,\n",
       "        1.59787698e-01, -7.16263586e-01,  5.05228265e-02, -1.43337415e-01,\n",
       "        9.43575391e-01,  3.57644225e-01, -8.34492028e-02,  6.77806103e-01,\n",
       "        5.56060374e-01,  2.22719461e-01, -1.52898548e+00,  1.02921118e+00,\n",
       "       -1.16625876e+00, -1.00956165e+00, -1.05267989e-01,  5.12022158e-01,\n",
       "        1.40772776e+00, -1.68769633e+00,  1.47123399e+00,  1.63646291e+00,\n",
       "       -4.61394936e-01, -2.01362270e-01, -5.71816730e-01, -6.03299115e-01,\n",
       "       -1.33938922e+00, -1.68965292e+00, -1.99327339e-01,  2.57772585e-01,\n",
       "        1.82882072e+00, -1.00100155e+00, -2.09169121e+00,  1.46559706e-01,\n",
       "       -4.66351102e-01,  3.56223007e-01, -3.97879733e-01, -1.25922352e+00,\n",
       "       -6.88878692e-01,  8.02630450e-01,  2.72391041e-01, -9.69176499e-01,\n",
       "        8.71968122e-01, -1.44635944e+00, -5.36481264e-01,  1.97920516e-01,\n",
       "       -1.36563981e+00, -1.19444438e+00,  1.59345426e-02, -8.00434624e-02,\n",
       "       -2.50802713e-01, -5.65142894e-01, -1.10267194e+00, -7.82282441e-01,\n",
       "        3.04168621e+00, -6.26081221e-01,  1.50590091e+00, -5.87336087e-01,\n",
       "        1.36585291e+00,  1.23204487e+00,  4.50889233e-01, -6.41409818e-01,\n",
       "       -1.37759603e+00,  9.65746348e-01, -1.28400346e+00, -1.27457210e+00,\n",
       "        1.52284176e+00,  1.46188243e+00,  3.76559632e-02, -2.46197199e-01,\n",
       "       -6.64297574e-01,  3.51335538e-01, -4.84031432e-01, -1.51308726e+00,\n",
       "       -7.63530487e-01,  2.49203210e-01, -1.58980861e+00, -9.79525922e-01,\n",
       "        1.22761629e-01,  1.68929209e+00,  1.77749865e-01,  3.20060205e-02,\n",
       "        1.93321556e+00, -1.06209471e+00, -7.32629099e-01,  8.42741393e-01,\n",
       "        1.07673999e+00,  4.57690538e-01, -2.61949332e+00,  7.39046342e-01,\n",
       "        6.67501058e-01,  4.64026361e-02,  6.66077597e-01,  1.40794848e+00,\n",
       "        5.11491863e-02, -9.35974861e-01, -1.83910931e+00,  6.37787285e-02,\n",
       "       -7.13968097e-01, -5.61884663e-01, -1.13246885e+00,  2.74291003e-01,\n",
       "        7.35912111e-01,  4.34318749e-01, -1.12004110e+00,  8.89094610e-01,\n",
       "        3.14506945e-01, -2.48800446e+00,  5.95908610e-01, -2.03586204e+00,\n",
       "       -1.13828165e+00,  1.05764229e+00,  6.52768540e-01, -6.44466851e-01,\n",
       "       -8.83462091e-01,  3.45692373e-01, -1.79682746e+00,  4.10709619e-01,\n",
       "       -2.91823449e-01,  7.34147649e-01, -1.25495665e-01, -1.08851741e+00,\n",
       "        2.02230925e-01, -3.49834401e-01, -1.42127690e+00, -1.16358834e+00,\n",
       "       -1.00667629e+00,  5.00217598e-02,  7.65430135e-01, -2.85148775e-02,\n",
       "       -1.20564560e+00, -3.81544842e-01,  5.66843638e-01,  1.07733675e+00,\n",
       "       -9.40358723e-01,  2.83607122e-01, -3.90320481e-01, -2.15412444e+00,\n",
       "       -1.29468375e+00, -5.66220695e-01, -5.17709210e-01, -3.95878308e-01,\n",
       "       -6.03695245e-01,  3.67392891e-01, -9.59011814e-01, -1.59529672e+00,\n",
       "        5.07522680e-01, -6.18370520e-01,  7.90792988e-01, -8.34405034e-01,\n",
       "        1.30946996e+00, -1.23874208e+00, -1.20273749e+00,  6.96146600e-01,\n",
       "        1.77898441e+00, -7.96317281e-01,  1.56983921e+00,  1.52166351e+00,\n",
       "        7.89915596e-01, -2.17220895e-01, -2.18405985e+00, -1.56726841e+00,\n",
       "       -8.09670261e-01,  5.00495107e-01, -1.93509853e-01, -6.64203200e-01,\n",
       "        8.35268456e-02, -1.65842528e+00,  3.80113586e-01, -9.56673032e-01,\n",
       "        1.26985899e+00,  1.50519375e-01, -7.65131360e-01, -5.37020355e-01,\n",
       "       -1.61129490e+00,  1.64988847e-01, -1.01077622e+00, -1.15399369e-01,\n",
       "        1.14003868e+00,  3.38002444e-01,  4.75514462e-01,  2.63904608e+00,\n",
       "        6.91107573e-01,  1.11123557e+00, -2.57684318e-01, -1.19595129e+00,\n",
       "        2.24547028e-01, -1.16346690e+00, -3.01591543e+00,  5.93969433e-01,\n",
       "        3.31393019e-01, -1.07281476e+00,  1.28944858e+00, -8.55213830e-02,\n",
       "       -4.76623792e-01, -9.63714531e-01,  1.15398305e+00, -4.44866053e-01,\n",
       "       -5.09644022e-01, -4.74993245e-01, -7.91428064e-01, -1.69311860e+00,\n",
       "       -7.41162924e-01, -8.87651471e-01,  6.94384624e-01, -1.31778304e+00,\n",
       "        6.82555354e-01, -5.22982620e-01, -8.18418085e-01, -1.77299646e-01,\n",
       "        3.25020832e-02,  1.01271518e-01,  5.75961267e-01,  2.10376950e-01,\n",
       "       -1.55631437e+00, -6.93315253e-01,  1.62460908e+00, -1.20665537e-01,\n",
       "       -2.34858174e+00,  1.67257267e-01,  1.69996470e+00,  1.16889881e+00,\n",
       "        5.53378999e-02,  2.17880779e-01,  6.45574756e-01, -1.58261080e-01,\n",
       "       -4.88821007e-01,  1.63212228e+00, -4.01225487e-01,  1.00935992e+00,\n",
       "       -1.57751835e+00, -7.88323298e-01, -1.15644749e+00,  4.10545286e-01,\n",
       "       -6.33212280e-01, -6.50858403e-01, -9.25058818e-01,  1.43163546e-01,\n",
       "        9.75512089e-01, -5.99755111e-01,  6.07099062e-01, -1.86031607e-02,\n",
       "       -6.21559602e-01,  3.46610401e-01,  1.33749137e+00, -2.60499641e+00,\n",
       "        6.95247694e-01,  1.76587140e+00, -1.73316758e-01,  7.63435709e-01,\n",
       "        9.76937063e-01,  5.17606261e-01,  2.49170955e-01,  1.30445287e+00,\n",
       "        1.11654357e+00,  1.86155665e-01,  6.62984007e-01, -9.04908731e-01,\n",
       "       -1.58938695e-01,  1.31865288e-01, -4.38517920e-02, -6.66355594e-01,\n",
       "        1.26529814e+00,  3.50626757e-01,  7.37671484e-01, -1.30015145e+00,\n",
       "       -5.11363606e-01, -6.92839424e-01, -1.83516587e-01,  1.68237730e+00,\n",
       "        2.53332371e+00,  2.00961553e-01,  3.76478954e-01, -1.93337539e-01,\n",
       "       -5.36373109e-01,  8.90365229e-01, -4.05770616e-01, -1.03743901e+00,\n",
       "        6.39048053e-01, -1.56515884e-01,  3.31392812e-01,  3.21066591e-01,\n",
       "        9.80989188e-01,  6.36815324e-01,  9.33262287e-01, -8.26832737e-02,\n",
       "       -7.74963349e-02,  4.10430790e-01,  2.75277405e-01,  5.25207247e-01,\n",
       "        3.98708101e-01,  2.19345071e+00, -1.59282861e-01,  5.14708807e-01,\n",
       "        1.68298102e-01,  1.37052988e+00, -7.28800729e-01, -1.20390412e+00,\n",
       "        1.22929509e+00,  7.79550121e-01,  2.15736359e-01, -7.31836618e-01,\n",
       "        1.29081869e+00,  4.55251203e-01, -5.71327890e-01, -4.65400585e-01,\n",
       "       -6.32570814e-01,  1.41362414e+00, -1.67273225e-01, -1.01613145e+00,\n",
       "       -5.79658859e-01,  1.12127692e+00,  6.19557648e-01, -7.02389301e-01,\n",
       "       -1.16088803e+00, -5.79328671e-01,  2.79840735e-01, -4.09601785e-01,\n",
       "       -5.69716692e-01,  2.09025982e-02, -5.76143736e-01, -1.10372037e+00,\n",
       "       -1.40998693e+00, -9.39964472e-01, -7.22252147e-01,  2.51524718e-01,\n",
       "        7.85160584e-02, -8.37245140e-01,  1.09479501e+00, -1.21419617e+00,\n",
       "        9.59964889e-01, -1.16780037e+00, -3.34089894e-01,  8.27424224e-01,\n",
       "        8.65017006e-01, -8.55404944e-01,  7.18168425e-02, -1.12595484e+00,\n",
       "       -2.06309365e-01,  4.21580372e-01, -5.52289750e-01,  1.48105198e+00,\n",
       "        4.95925913e-01,  6.82673329e-01, -5.65376750e-01, -1.31805469e-01,\n",
       "        3.00873877e-01,  8.67759605e-01,  7.08162470e-01, -4.05082925e-01,\n",
       "       -8.39169424e-01, -1.18438541e+00,  2.13954356e+00,  1.13555694e+00,\n",
       "        1.45470048e+00, -1.47228888e-01,  2.02744921e+00,  5.14276963e-01,\n",
       "        2.37969058e-01, -5.25650520e-01, -1.41175163e+00,  6.82915427e-01,\n",
       "        7.47193068e-02, -3.63146774e-03, -1.34891515e+00, -2.00218932e+00,\n",
       "       -1.10985141e+00,  8.86752000e-01,  1.90393780e+00, -6.52378123e-01,\n",
       "       -3.29414926e-01, -1.57004442e+00, -1.01183459e+00,  3.19764776e-01,\n",
       "       -7.73222990e-01,  1.02026648e-01,  1.23250967e+00, -1.87607815e-01,\n",
       "       -1.15998969e+00,  1.66371125e+00,  6.06942781e-01,  2.05104461e-01,\n",
       "        3.15885080e-01, -2.17368155e-01,  6.91473711e-01, -1.39045647e+00,\n",
       "       -2.09237034e-02, -1.18385856e+00, -7.06552646e-02,  6.42056518e-01,\n",
       "       -1.71732878e-01,  1.75638122e+00, -3.05321449e-02, -6.90697921e-01,\n",
       "        3.23124851e-01,  2.41966930e-01,  3.39010367e-01,  5.57612197e-02,\n",
       "       -9.06441977e-02,  9.46606656e-01, -1.62099030e+00,  7.57248634e-01,\n",
       "       -5.69046595e-01, -1.01178519e-01, -8.81704765e-01,  1.27047648e+00,\n",
       "       -2.05791852e+00, -1.22772906e+00, -4.20942640e-01,  6.86060163e-01,\n",
       "       -1.31943213e+00,  5.23286679e-01,  1.08775282e+00, -8.98317643e-01,\n",
       "       -2.55857134e+00,  7.53508845e-01, -1.70029003e-01, -9.23889553e-02,\n",
       "        1.07495424e+00,  7.58353212e-01, -5.68003869e-01,  1.51202360e-01,\n",
       "       -8.82644521e-01,  4.46981238e-01, -7.20547886e-02,  5.09250300e-01,\n",
       "       -6.42469910e-01,  2.20307645e-01,  3.32463699e-01,  5.68151435e-01,\n",
       "        8.29621652e-02, -2.02878150e+00,  5.07314629e-01, -1.18666325e+00,\n",
       "        1.02127604e+00, -1.91034013e-02, -2.61519807e-03, -6.49950297e-01,\n",
       "        1.75405158e+00, -7.77621971e-01,  1.38968008e+00,  1.64192249e+00,\n",
       "        3.16655683e+00,  1.38395555e+00, -7.73162861e-02, -9.11826334e-01,\n",
       "       -7.14620290e-01, -1.46102758e+00,  1.40484771e+00,  3.78504290e-01,\n",
       "       -1.06352111e+00,  7.99358392e-01,  1.45342218e-01,  1.08419828e+00,\n",
       "        4.15424212e-01, -1.03554890e+00,  2.22628843e-01,  9.72835363e-01,\n",
       "        1.69746705e-01,  1.64959648e-01, -1.18260067e+00, -5.80459239e-01,\n",
       "        1.17938421e-01,  8.62382324e-01, -5.23194551e-01, -3.14184108e-01,\n",
       "        2.19983062e+00, -9.09406722e-01, -1.80802839e-01, -9.14406232e-01,\n",
       "        4.51366684e-02,  8.63260647e-01,  8.71905048e-01,  4.52498830e-01,\n",
       "        1.30748650e+00,  3.28981294e-02,  6.97435703e-01, -9.64583431e-01,\n",
       "        1.06171957e+00, -5.87208295e-01,  1.32423762e+00, -1.01299382e+00,\n",
       "        3.45065544e-01,  3.29055523e-01,  3.26186711e-01, -1.22073966e-01,\n",
       "        1.59606131e+00,  4.28622713e-01, -1.12548589e+00, -4.92436461e-01,\n",
       "        1.26809642e+00, -8.74023846e-01,  1.85928051e+00, -3.44974723e-01,\n",
       "       -1.81284596e+00,  9.16503434e-01, -8.88640014e-01, -3.71067945e+00,\n",
       "        3.18830109e-02, -1.28955884e+00,  1.89559093e-01,  6.93483313e-01,\n",
       "        8.01950796e-01, -2.29727356e-01, -1.60416293e+00,  1.29179262e+00,\n",
       "        8.98580515e-02,  4.35118897e-02, -1.55873798e+00, -7.15163717e-01,\n",
       "        1.31282965e-01, -2.24822105e-01,  1.45328683e-01, -1.01474228e+00,\n",
       "       -1.73311944e+00,  3.10326901e-01, -1.71426450e-01,  1.07405114e+00,\n",
       "        1.33703950e+00, -1.71225142e-01, -3.77363132e-01,  1.28739862e+00,\n",
       "        9.07317527e-01, -8.96951092e-01,  1.86548922e+00,  2.68287719e-01,\n",
       "       -1.61151062e-01, -1.32660740e+00, -3.66738155e-01,  5.65997862e-01,\n",
       "        3.71927861e-01,  1.42479087e+00,  9.84264237e-01, -9.74817649e-01,\n",
       "       -2.10955586e-01, -3.56524138e-01, -7.33944584e-01, -7.33987048e-01,\n",
       "       -9.45956799e-01, -9.62389582e-01, -1.02045576e-01,  3.34930659e-01,\n",
       "        1.21420518e+00, -8.62324903e-01, -5.53625293e-01, -3.15501369e+00,\n",
       "       -1.93152847e-01,  1.74797476e-01, -5.66379342e-01,  2.32732314e-02,\n",
       "       -8.37897598e-01, -7.92902249e-01, -1.45198502e+00, -1.12661439e+00,\n",
       "       -1.88922978e+00,  1.15171488e+00,  8.07165003e-01,  4.52662685e-02,\n",
       "       -1.54393020e-01,  1.48994961e+00,  5.19589595e-01, -7.09493356e-01,\n",
       "        5.82868958e-02,  3.35189020e-01,  2.84258064e-01,  3.12743055e-01,\n",
       "       -1.67675060e+00, -7.86611197e-01, -2.00610661e+00,  3.13082683e-01,\n",
       "       -4.08449792e-01, -1.28031172e+00,  2.20210325e+00,  1.29135896e+00,\n",
       "       -4.90240900e-01,  8.35402564e-01, -6.10706160e-01,  9.66344443e-01,\n",
       "        8.15090813e-01, -4.86115389e-01,  6.10124809e-01,  1.83233890e+00,\n",
       "        1.04439721e+00, -1.13451808e+00,  4.75917412e-01,  8.50743488e-01,\n",
       "        3.10209000e-01,  1.21186964e+00, -5.88959331e-01, -2.23858098e+00,\n",
       "        1.64654204e+00, -1.01141109e+00, -4.19203397e-03, -1.43998064e+00,\n",
       "        9.46293472e-01, -9.48600720e-01,  2.46591597e-01,  1.18142348e-01,\n",
       "        1.59408211e+00,  2.03986641e+00,  8.98774697e-01,  1.15905740e+00,\n",
       "        3.76236944e-01,  3.40650991e-01, -7.55175368e-01,  6.51682490e-01,\n",
       "       -1.93832946e+00,  9.52345861e-01,  1.84268311e-01,  4.69212556e-02,\n",
       "        1.22271174e+00, -1.80866411e+00, -9.06982250e-01,  6.12953276e-01,\n",
       "       -2.86230959e-01,  6.40427382e-01, -1.95161462e-01, -1.12573095e+00,\n",
       "        4.74800680e-01,  2.40463400e-01,  5.80108723e-01,  5.59860358e-01,\n",
       "        2.06945007e+00, -9.30405235e-01, -5.63404678e-01,  1.48340945e+00,\n",
       "       -8.20461406e-01,  1.42264144e-01,  1.15340297e+00,  4.31738653e-01,\n",
       "        5.23182929e-01, -2.79827796e-02, -1.78451966e+00,  7.62452722e-01,\n",
       "        8.94460761e-01,  4.67023786e-01, -3.92700776e-01,  2.51415631e-01,\n",
       "        7.59295974e-01, -3.38440387e-01, -4.72480349e-01, -1.05875227e+00,\n",
       "        4.86437565e-01, -1.21352619e+00, -4.58964287e-01,  1.37809004e+00,\n",
       "       -2.02735357e+00, -7.69585949e-01,  9.40663792e-01, -2.52740868e-01,\n",
       "        1.20642075e+00, -1.17352040e+00, -9.09358002e-01,  1.15836948e+00,\n",
       "       -9.92255813e-01,  5.19815374e-02, -2.54944783e-01,  1.38962652e+00,\n",
       "       -1.09846231e+00,  1.02575162e-01,  8.96776017e-01,  1.31630713e+00,\n",
       "        1.88610182e-01,  8.56840604e-01, -5.92296044e-01,  2.01112142e+00,\n",
       "        5.65791602e-01,  8.93849975e-01,  1.92064092e+00,  3.94189693e-01,\n",
       "        1.54745369e-01,  8.64920980e-01,  1.48136991e+00, -1.29826533e+00,\n",
       "       -1.60191436e+00,  7.39765514e-01, -9.36111725e-02,  1.27974617e-01,\n",
       "        2.13183614e+00, -1.03698246e-01, -5.79969875e-03,  1.33601301e+00,\n",
       "       -7.51959909e-01,  2.31140724e-01, -1.33289071e-01,  2.36713735e-01,\n",
       "        2.95922041e-01, -1.14681598e+00, -4.23555530e-01, -5.78387126e-01,\n",
       "       -1.33020800e+00,  4.30304214e-01, -6.52334270e-01, -1.17696351e+00,\n",
       "       -1.62612527e+00, -5.13086835e-01, -1.20771138e+00,  3.58804073e-01,\n",
       "        9.29596536e-01, -5.16313982e-01, -7.67692422e-01, -4.71337336e-01,\n",
       "        6.62876385e-01, -7.61782324e-01,  5.37063357e-01, -6.68843419e-01,\n",
       "       -2.43774886e+00,  1.62208739e+00,  8.30217904e-01, -2.41635808e-01,\n",
       "        1.34573228e-01,  1.68897769e-01,  1.67002203e+00, -3.32987265e-01,\n",
       "        2.89963396e-01, -2.44643165e-01, -5.90490320e-01,  4.87877268e-01,\n",
       "        5.05338144e-01, -4.93059790e-01,  2.44108266e+00, -2.82355629e+00,\n",
       "        1.51514059e+00, -1.12390938e+00, -7.40620629e-01,  6.80166391e-01,\n",
       "        9.93658623e-01,  1.43513210e+00, -1.37093972e+00,  2.17454135e+00,\n",
       "       -9.40386004e-01,  4.28481732e-01,  1.42279146e+00,  1.62347641e-01,\n",
       "        3.60943987e-02,  9.72713285e-01,  1.29450553e-01, -1.02670146e+00,\n",
       "        1.25111695e+00,  1.26279065e+00,  7.67323928e-01,  5.72603507e-01,\n",
       "        1.33158146e+00,  1.20206062e+00,  1.42367707e+00,  6.05498628e-01,\n",
       "       -1.75580452e+00,  9.16396067e-01,  8.73727465e-01,  1.09957815e+00,\n",
       "        1.71880180e+00, -1.20207896e+00, -2.79489251e+00,  1.19320781e+00,\n",
       "        8.92006867e-01,  2.12182130e-01, -1.06876607e+00,  1.94398649e+00,\n",
       "       -1.94084437e-01,  2.30104642e+00,  5.14935634e-01,  1.29933830e+00,\n",
       "       -2.48799347e+00,  7.28515079e-01, -6.16554987e-01, -1.21919127e+00,\n",
       "       -2.28391525e-01,  2.96864919e+00, -5.01575424e-01, -1.70192047e+00,\n",
       "        1.26985637e+00, -8.07850414e-01,  3.36420553e-03,  1.78118113e+00,\n",
       "        1.18121935e+00,  8.04862809e-01,  1.23901595e+00,  3.26361574e-02,\n",
       "       -1.17756815e+00, -5.02060514e-02, -3.90956991e-01,  6.90155954e-02,\n",
       "       -2.41186011e-02,  5.65460101e-01,  1.04423089e+00, -5.27251322e-01,\n",
       "       -2.39000507e-01,  3.69957686e-01,  1.27851377e+00, -2.99268574e-01,\n",
       "       -1.96561676e+00,  1.03836704e+00, -1.28366622e+00, -3.60672455e-01,\n",
       "       -4.49033618e-01,  6.62425054e-01, -1.78689331e+00,  1.41202954e+00,\n",
       "       -3.47810115e-01,  1.28149863e+00, -2.17167422e-01,  3.04131763e+00,\n",
       "        2.57782890e-01, -2.09999604e-01, -5.97150594e-01, -2.38755766e+00,\n",
       "        1.83590471e+00, -1.35632918e+00,  3.36671488e-01,  9.83922585e-01,\n",
       "        8.69426434e-01,  7.04828093e-02, -6.07489819e-01,  7.29416398e-01,\n",
       "        1.47184905e-02, -1.52422280e+00, -9.08278217e-01,  7.40604730e-01,\n",
       "        1.02880350e+00, -2.42287250e+00,  3.95585031e-01, -1.76493111e-01,\n",
       "        1.02436315e+00,  1.65149108e-01, -1.61523213e-01,  1.04626653e+00,\n",
       "        1.22834977e+00,  1.28678899e+00,  1.16376145e-01,  6.27849891e-01,\n",
       "        1.92884899e+00,  9.62601392e-03, -6.33370298e-01,  5.87213368e-01,\n",
       "       -8.27253760e-01,  1.09665709e+00, -7.13996393e-01, -1.90108107e-01,\n",
       "        1.30953864e+00, -7.87398911e-01, -1.90735791e-01,  5.61456713e-01,\n",
       "        5.11248182e-01, -1.31528888e+00,  1.09571987e+00, -2.97026337e-02,\n",
       "        2.83943443e-01,  8.66101954e-01,  9.68660818e-01,  3.95250809e-01,\n",
       "        1.03635869e+00,  3.77056500e-01, -1.17970118e+00, -1.21480404e+00,\n",
       "       -8.19392235e-01, -9.36437674e-01, -2.86333837e-01, -2.26080161e+00,\n",
       "        1.29852256e-01,  7.72921270e-01,  7.96117257e-01,  4.75290761e-02,\n",
       "       -1.11254117e+00,  2.21228235e+00, -7.31471679e-01, -4.64672881e-01,\n",
       "        7.25936595e-02, -1.50955492e+00, -1.34819122e+00,  5.12539007e-02,\n",
       "        1.12627648e+00, -3.82304166e-01,  4.76042938e-01,  5.76996508e-01,\n",
       "        3.01035461e-01, -8.81466960e-01,  1.09394313e+00, -1.82466618e-01,\n",
       "       -9.92119244e-01, -1.08305407e+00,  1.04152183e+00,  1.43874729e-01,\n",
       "       -6.57460603e-01,  1.07063875e+00,  8.13190803e-01,  5.54919487e-02,\n",
       "       -1.18872478e+00, -8.20043445e-02,  3.43814494e-01, -9.52338171e-01,\n",
       "        2.60749338e+00, -6.77519749e-02, -1.03756299e+00, -1.57537852e+00,\n",
       "        1.13654858e+00, -8.36436031e-02,  1.34917764e-02, -6.96462517e-01,\n",
       "        7.31380525e-01,  3.81718767e-01, -1.07175154e+00, -4.33298000e-01,\n",
       "       -1.30661694e+00,  4.65624957e-01, -1.03723306e-02,  9.53170568e-01,\n",
       "        5.95136053e-01,  8.47102060e-01, -1.80140030e+00, -7.20871943e-01,\n",
       "       -1.15444992e+00, -1.46341963e+00, -8.47424373e-01,  1.05271316e+00,\n",
       "        8.28757141e-01,  1.51418557e+00,  5.69290378e-01,  5.45903673e-01,\n",
       "       -3.24394722e-01, -3.10455763e-01, -3.56719628e-01, -8.37435168e-01,\n",
       "       -1.33492468e+00,  1.21828675e-01,  1.35273335e+00, -1.04565416e+00,\n",
       "       -1.24216027e+00,  1.03192811e+00, -1.50099703e-01, -1.70717212e+00,\n",
       "       -2.16436526e-01, -2.42890048e+00,  2.47392762e-01, -4.35640271e-01,\n",
       "       -1.30252464e+00,  1.57385910e-01, -5.08072369e-01,  1.40770413e+00,\n",
       "       -7.00174371e-01,  4.76977726e-01, -9.87390475e-01,  3.98274292e-01,\n",
       "        7.29588757e-01,  8.58050941e-01,  9.99640184e-01, -1.22323207e+00])"
      ]
     },
     "execution_count": 3,
     "metadata": {},
     "output_type": "execute_result"
    }
   ],
   "source": [
    "np.random.seed(12)\n",
    "\n",
    "mean = 0\n",
    "std_dev = 1\n",
    "n = 1000\n",
    "\n",
    "data = np.random.normal(loc=mean, scale=std_dev, size=n)\n",
    "data"
   ]
  },
  {
   "cell_type": "markdown",
   "metadata": {},
   "source": [
    "### Example #3 CDF at Negative value "
   ]
  },
  {
   "cell_type": "code",
   "execution_count": 4,
   "metadata": {},
   "outputs": [
    {
     "data": {
      "text/plain": [
       "0.1677257390652831"
      ]
     },
     "execution_count": 4,
     "metadata": {},
     "output_type": "execute_result"
    }
   ],
   "source": [
    "cdf_neg_one = norm.cdf(-1, loc=data.mean(), scale=data.std())\n",
    "cdf_neg_one"
   ]
  },
  {
   "cell_type": "markdown",
   "metadata": {},
   "source": [
    "### Example #3 CDF Range -2 to 2"
   ]
  },
  {
   "cell_type": "code",
   "execution_count": 5,
   "metadata": {},
   "outputs": [
    {
     "name": "stdout",
     "output_type": "stream",
     "text": [
      "0.9750228489168178\n",
      "0.02632949588021279\n"
     ]
    }
   ],
   "source": [
    "upper_cdf = norm.cdf(2, loc=data.mean(), scale=data.std())\n",
    "lower_cdf = norm.cdf(-2, loc=data.mean(), scale=data.std())\n",
    "\n",
    "print(upper_cdf)\n",
    "print(lower_cdf)"
   ]
  },
  {
   "cell_type": "code",
   "execution_count": 6,
   "metadata": {},
   "outputs": [
    {
     "data": {
      "text/plain": [
       "0.948693353036605"
      ]
     },
     "execution_count": 6,
     "metadata": {},
     "output_type": "execute_result"
    }
   ],
   "source": [
    "cdf_range = upper_cdf - lower_cdf\n",
    "cdf_range"
   ]
  },
  {
   "cell_type": "markdown",
   "metadata": {},
   "source": [
    "### Example #4 CDF Right side value greater than 2"
   ]
  },
  {
   "cell_type": "code",
   "execution_count": 7,
   "metadata": {},
   "outputs": [
    {
     "data": {
      "text/plain": [
       "0.024977151083182214"
      ]
     },
     "execution_count": 7,
     "metadata": {},
     "output_type": "execute_result"
    }
   ],
   "source": [
    "value_grater_2 = 1 - norm.cdf(2, loc=data.mean(), scale=data.std())\n",
    "value_grater_2"
   ]
  },
  {
   "cell_type": "markdown",
   "metadata": {},
   "source": [
    "### Example #5 Graph Seaborn"
   ]
  },
  {
   "cell_type": "code",
   "execution_count": 8,
   "metadata": {},
   "outputs": [
    {
     "data": {
      "image/png": "[encoded data removed]",
      "text/plain": [
       "<Figure size 640x480 with 1 Axes>"
      ]
     },
     "metadata": {},
     "output_type": "display_data"
    }
   ],
   "source": [
    "sns.ecdfplot(data,label=\"CDF\")\n",
    "plt.title(\"CDF Normal Distribution\")\n",
    "plt.xlabel(\"Data Values\")\n",
    "plt.ylabel(\"Cumulative Probability\")\n",
    "plt.legend()\n",
    "plt.grid(True)\n",
    "plt.show()"
   ]
  }
 ],
 "metadata": {
  "kernelspec": {
   "display_name": "Python 3",
   "language": "python",
   "name": "python3"
  },
  "language_info": {
   "codemirror_mode": {
    "name": "ipython",
    "version": 3
   },
   "file_extension": ".py",
   "mimetype": "text/x-python",
   "name": "python",
   "nbconvert_exporter": "python",
   "pygments_lexer": "ipython3",
   "version": "3.11.4"
  }
 },
 "nbformat": 4,
 "nbformat_minor": 2
}
