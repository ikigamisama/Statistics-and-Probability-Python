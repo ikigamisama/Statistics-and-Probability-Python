{
 "cells": [
  {
   "cell_type": "markdown",
   "metadata": {},
   "source": [
    "# **Quantiles** "
   ]
  },
  {
   "cell_type": "markdown",
   "metadata": {},
   "source": [
    "are points taken at regular intervals from a cumulative distribution of data that divide the data into equal-sized intervals. They help in understanding the spread, shape, and distribution of a dataset by splitting it into segments. A quantile can be understood as a generalization of the median, quartiles, and percentiles."
   ]
  },
  {
   "cell_type": "markdown",
   "metadata": {},
   "source": [
    "## Common Types of Quantiles:\n",
    "\n",
    "#### 1. Median (2-Quantile): Divides the data into two equal halves (50% below, 50% above).\n",
    "\n",
    "#### 2, Quartiles (4-Quantiles): Divides the data into four equal parts.\n",
    "#### &nbsp; &nbsp; &nbsp; - Q1 (First Quartile): 25% of the data is below this value.\n",
    "#### &nbsp; &nbsp; &nbsp; - Q2 (Second Quartile or Median): 50% of the data is below this value.\n",
    "#### &nbsp; &nbsp; &nbsp; - Q3 (Third Quartile): 75% of the data is below this value.\n",
    "\n",
    "#### 3. Deciles (10-Quantiles): Divides the data into ten equal parts.\n",
    "#### &nbsp; &nbsp; &nbsp; - D1: 10% of the data is below this value.\n",
    "#### &nbsp; &nbsp; &nbsp; - D9: 90% of the data is below this value.\n",
    "\n",
    "#### 4. Percentiles (100-Quantiles): Divides the data into 100 equal parts.\n",
    "#### &nbsp; &nbsp; &nbsp; - P25: 25% of the data is below this value (same as Q1).\n",
    "#### &nbsp; &nbsp; &nbsp; - P50: 50% of the data is below this value (same as Q2, median).\n",
    "#### &nbsp; &nbsp; &nbsp; - P75: 75% of the data is below this value (same as Q3)."
   ]
  },
  {
   "cell_type": "code",
   "execution_count": 1,
   "metadata": {},
   "outputs": [],
   "source": [
    "import pandas as pd\n",
    "import numpy as np"
   ]
  },
  {
   "cell_type": "markdown",
   "metadata": {},
   "source": [
    "### Example #1 Quadtiles in Numpy"
   ]
  },
  {
   "cell_type": "code",
   "execution_count": 2,
   "metadata": {},
   "outputs": [
    {
     "name": "stdout",
     "output_type": "stream",
     "text": [
      "12.25\n",
      "25.5\n",
      "55.75\n"
     ]
    }
   ],
   "source": [
    "data = [13,74,11,12,56,33,18,7,93,55]\n",
    "\n",
    "Q1 = np.percentile(data, 25)\n",
    "Q2 = np.percentile(data, 50)\n",
    "Q3 = np.percentile(data, 75)\n",
    "\n",
    "print(Q1)\n",
    "print(Q2)\n",
    "print(Q3)"
   ]
  },
  {
   "cell_type": "markdown",
   "metadata": {},
   "source": [
    "### Example #2 Numpy Deciles"
   ]
  },
  {
   "cell_type": "code",
   "execution_count": 4,
   "metadata": {},
   "outputs": [
    {
     "name": "stdout",
     "output_type": "stream",
     "text": [
      "10.6\n",
      "75.89999999999999\n"
     ]
    }
   ],
   "source": [
    "D1 = np.percentile(data, 10)\n",
    "D9 = np.percentile(data, 90)\n",
    "\n",
    "print(D1)\n",
    "print(D9)"
   ]
  },
  {
   "cell_type": "markdown",
   "metadata": {},
   "source": [
    "### Example #3 Numpy Percentiles"
   ]
  },
  {
   "cell_type": "code",
   "execution_count": 5,
   "metadata": {},
   "outputs": [
    {
     "name": "stdout",
     "output_type": "stream",
     "text": [
      "10.96\n",
      "29.550000000000008\n"
     ]
    }
   ],
   "source": [
    "P11 = np.percentile(data, 11)\n",
    "P53 = np.percentile(data, 53)\n",
    "\n",
    "print(P11)\n",
    "print(P53)"
   ]
  },
  {
   "cell_type": "markdown",
   "metadata": {},
   "source": [
    "### Example #4 Pandas Dataframe Quartiles\n"
   ]
  },
  {
   "cell_type": "code",
   "execution_count": 6,
   "metadata": {},
   "outputs": [
    {
     "data": {
      "text/html": [
       "<div>\n",
       "<style scoped>\n",
       "    .dataframe tbody tr th:only-of-type {\n",
       "        vertical-align: middle;\n",
       "    }\n",
       "\n",
       "    .dataframe tbody tr th {\n",
       "        vertical-align: top;\n",
       "    }\n",
       "\n",
       "    .dataframe thead th {\n",
       "        text-align: right;\n",
       "    }\n",
       "</style>\n",
       "<table border=\"1\" class=\"dataframe\">\n",
       "  <thead>\n",
       "    <tr style=\"text-align: right;\">\n",
       "      <th></th>\n",
       "      <th>A</th>\n",
       "    </tr>\n",
       "  </thead>\n",
       "  <tbody>\n",
       "    <tr>\n",
       "      <th>0</th>\n",
       "      <td>13</td>\n",
       "    </tr>\n",
       "    <tr>\n",
       "      <th>1</th>\n",
       "      <td>74</td>\n",
       "    </tr>\n",
       "    <tr>\n",
       "      <th>2</th>\n",
       "      <td>11</td>\n",
       "    </tr>\n",
       "    <tr>\n",
       "      <th>3</th>\n",
       "      <td>12</td>\n",
       "    </tr>\n",
       "    <tr>\n",
       "      <th>4</th>\n",
       "      <td>56</td>\n",
       "    </tr>\n",
       "    <tr>\n",
       "      <th>5</th>\n",
       "      <td>33</td>\n",
       "    </tr>\n",
       "    <tr>\n",
       "      <th>6</th>\n",
       "      <td>18</td>\n",
       "    </tr>\n",
       "    <tr>\n",
       "      <th>7</th>\n",
       "      <td>7</td>\n",
       "    </tr>\n",
       "    <tr>\n",
       "      <th>8</th>\n",
       "      <td>93</td>\n",
       "    </tr>\n",
       "    <tr>\n",
       "      <th>9</th>\n",
       "      <td>55</td>\n",
       "    </tr>\n",
       "  </tbody>\n",
       "</table>\n",
       "</div>"
      ],
      "text/plain": [
       "    A\n",
       "0  13\n",
       "1  74\n",
       "2  11\n",
       "3  12\n",
       "4  56\n",
       "5  33\n",
       "6  18\n",
       "7   7\n",
       "8  93\n",
       "9  55"
      ]
     },
     "execution_count": 6,
     "metadata": {},
     "output_type": "execute_result"
    }
   ],
   "source": [
    "df = pd.DataFrame({\n",
    "    'A': data\n",
    "})\n",
    "\n",
    "df"
   ]
  },
  {
   "cell_type": "code",
   "execution_count": 8,
   "metadata": {},
   "outputs": [
    {
     "name": "stdout",
     "output_type": "stream",
     "text": [
      "12.25\n",
      "25.5\n",
      "55.75\n"
     ]
    }
   ],
   "source": [
    "PDQ1 = df['A'].quantile(0.25)\n",
    "PDQ2 = df['A'].quantile(0.50)\n",
    "PDQ3 = df['A'].quantile(0.75)\n",
    "\n",
    "\n",
    "print(PDQ1)\n",
    "print(PDQ2)\n",
    "print(PDQ3)"
   ]
  },
  {
   "cell_type": "markdown",
   "metadata": {},
   "source": [
    "### Example #5 Pandas Dataframe Deciles\n"
   ]
  },
  {
   "cell_type": "code",
   "execution_count": 9,
   "metadata": {},
   "outputs": [
    {
     "name": "stdout",
     "output_type": "stream",
     "text": [
      "10.6\n",
      "75.89999999999999\n"
     ]
    }
   ],
   "source": [
    "PD1 = df['A'].quantile(0.1)\n",
    "PD9 = df['A'].quantile(0.9)\n",
    "\n",
    "print(PD1)\n",
    "print(PD9)"
   ]
  },
  {
   "cell_type": "code",
   "execution_count": null,
   "metadata": {},
   "outputs": [],
   "source": []
  }
 ],
 "metadata": {
  "kernelspec": {
   "display_name": "Python 3",
   "language": "python",
   "name": "python3"
  },
  "language_info": {
   "codemirror_mode": {
    "name": "ipython",
    "version": 3
   },
   "file_extension": ".py",
   "mimetype": "text/x-python",
   "name": "python",
   "nbconvert_exporter": "python",
   "pygments_lexer": "ipython3",
   "version": "3.11.4"
  }
 },
 "nbformat": 4,
 "nbformat_minor": 2
}
