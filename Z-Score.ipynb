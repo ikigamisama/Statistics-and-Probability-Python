{
 "cells": [
  {
   "cell_type": "markdown",
   "metadata": {},
   "source": [
    "# **Z-Score**\n",
    "\n",
    "A Z-score of 0 indicates that the value is exactly at the mean, while a positiove Z-score indicates a value above the mean, and a negative Z-score indicates a value below the mean.\n",
    "\n",
    "How many Standard Deviations away from the mean\n"
   ]
  },
  {
   "cell_type": "markdown",
   "metadata": {},
   "source": [
    "## Examples"
   ]
  },
  {
   "cell_type": "code",
   "execution_count": 2,
   "metadata": {},
   "outputs": [],
   "source": [
    "import numpy as np\n",
    "import pandas as pd \n",
    "from scipy import stats"
   ]
  },
  {
   "cell_type": "code",
   "execution_count": 3,
   "metadata": {},
   "outputs": [
    {
     "data": {
      "text/plain": [
       "array([-0.86101871, -0.7412248 , -0.14225526, -0.20215222,  1.8343442 ,\n",
       "       -1.40009129,  1.05568381,  0.45671427])"
      ]
     },
     "execution_count": 3,
     "metadata": {},
     "output_type": "execute_result"
    }
   ],
   "source": [
    "data = [10,12,22,21,55,1,42,32]\n",
    "\n",
    "mean = np.mean(data)\n",
    "std_dev = np.std(data)\n",
    "\n",
    "z_score_manual = (data - mean) / std_dev\n",
    "z_score_manual"
   ]
  },
  {
   "cell_type": "markdown",
   "metadata": {},
   "source": [
    "### Scipy"
   ]
  },
  {
   "cell_type": "code",
   "execution_count": 4,
   "metadata": {},
   "outputs": [
    {
     "data": {
      "text/plain": [
       "array([-0.86101871, -0.7412248 , -0.14225526, -0.20215222,  1.8343442 ,\n",
       "       -1.40009129,  1.05568381,  0.45671427])"
      ]
     },
     "execution_count": 4,
     "metadata": {},
     "output_type": "execute_result"
    }
   ],
   "source": [
    "z_scores_scipy = stats.zscore(data)\n",
    "z_scores_scipy"
   ]
  },
  {
   "cell_type": "markdown",
   "metadata": {},
   "source": [
    "### Pandas"
   ]
  },
  {
   "cell_type": "code",
   "execution_count": 7,
   "metadata": {},
   "outputs": [
    {
     "data": {
      "text/html": [
       "<div>\n",
       "<style scoped>\n",
       "    .dataframe tbody tr th:only-of-type {\n",
       "        vertical-align: middle;\n",
       "    }\n",
       "\n",
       "    .dataframe tbody tr th {\n",
       "        vertical-align: top;\n",
       "    }\n",
       "\n",
       "    .dataframe thead th {\n",
       "        text-align: right;\n",
       "    }\n",
       "</style>\n",
       "<table border=\"1\" class=\"dataframe\">\n",
       "  <thead>\n",
       "    <tr style=\"text-align: right;\">\n",
       "      <th></th>\n",
       "      <th>Values</th>\n",
       "    </tr>\n",
       "  </thead>\n",
       "  <tbody>\n",
       "    <tr>\n",
       "      <th>0</th>\n",
       "      <td>1.690526</td>\n",
       "    </tr>\n",
       "    <tr>\n",
       "      <th>1</th>\n",
       "      <td>-0.465937</td>\n",
       "    </tr>\n",
       "    <tr>\n",
       "      <th>2</th>\n",
       "      <td>0.032820</td>\n",
       "    </tr>\n",
       "    <tr>\n",
       "      <th>3</th>\n",
       "      <td>0.407516</td>\n",
       "    </tr>\n",
       "    <tr>\n",
       "      <th>4</th>\n",
       "      <td>-0.788923</td>\n",
       "    </tr>\n",
       "    <tr>\n",
       "      <th>...</th>\n",
       "      <td>...</td>\n",
       "    </tr>\n",
       "    <tr>\n",
       "      <th>995</th>\n",
       "      <td>0.038660</td>\n",
       "    </tr>\n",
       "    <tr>\n",
       "      <th>996</th>\n",
       "      <td>0.557177</td>\n",
       "    </tr>\n",
       "    <tr>\n",
       "      <th>997</th>\n",
       "      <td>-0.488457</td>\n",
       "    </tr>\n",
       "    <tr>\n",
       "      <th>998</th>\n",
       "      <td>-0.628522</td>\n",
       "    </tr>\n",
       "    <tr>\n",
       "      <th>999</th>\n",
       "      <td>-0.677439</td>\n",
       "    </tr>\n",
       "  </tbody>\n",
       "</table>\n",
       "<p>1000 rows × 1 columns</p>\n",
       "</div>"
      ],
      "text/plain": [
       "       Values\n",
       "0    1.690526\n",
       "1   -0.465937\n",
       "2    0.032820\n",
       "3    0.407516\n",
       "4   -0.788923\n",
       "..        ...\n",
       "995  0.038660\n",
       "996  0.557177\n",
       "997 -0.488457\n",
       "998 -0.628522\n",
       "999 -0.677439\n",
       "\n",
       "[1000 rows x 1 columns]"
      ]
     },
     "execution_count": 7,
     "metadata": {},
     "output_type": "execute_result"
    }
   ],
   "source": [
    "np.random.seed(7)\n",
    "\n",
    "data2= np.random.normal(loc = 0, scale = 1, size=1000)\n",
    "df = pd.DataFrame(data2, columns=['Values'])\n",
    "df"
   ]
  },
  {
   "cell_type": "code",
   "execution_count": 9,
   "metadata": {},
   "outputs": [
    {
     "data": {
      "text/html": [
       "<div>\n",
       "<style scoped>\n",
       "    .dataframe tbody tr th:only-of-type {\n",
       "        vertical-align: middle;\n",
       "    }\n",
       "\n",
       "    .dataframe tbody tr th {\n",
       "        vertical-align: top;\n",
       "    }\n",
       "\n",
       "    .dataframe thead th {\n",
       "        text-align: right;\n",
       "    }\n",
       "</style>\n",
       "<table border=\"1\" class=\"dataframe\">\n",
       "  <thead>\n",
       "    <tr style=\"text-align: right;\">\n",
       "      <th></th>\n",
       "      <th>Values</th>\n",
       "      <th>Z-Score</th>\n",
       "    </tr>\n",
       "  </thead>\n",
       "  <tbody>\n",
       "    <tr>\n",
       "      <th>0</th>\n",
       "      <td>1.690526</td>\n",
       "      <td>1.785156</td>\n",
       "    </tr>\n",
       "    <tr>\n",
       "      <th>1</th>\n",
       "      <td>-0.465937</td>\n",
       "      <td>-0.454298</td>\n",
       "    </tr>\n",
       "    <tr>\n",
       "      <th>2</th>\n",
       "      <td>0.032820</td>\n",
       "      <td>0.063654</td>\n",
       "    </tr>\n",
       "    <tr>\n",
       "      <th>3</th>\n",
       "      <td>0.407516</td>\n",
       "      <td>0.452770</td>\n",
       "    </tr>\n",
       "    <tr>\n",
       "      <th>4</th>\n",
       "      <td>-0.788923</td>\n",
       "      <td>-0.789714</td>\n",
       "    </tr>\n",
       "    <tr>\n",
       "      <th>...</th>\n",
       "      <td>...</td>\n",
       "      <td>...</td>\n",
       "    </tr>\n",
       "    <tr>\n",
       "      <th>995</th>\n",
       "      <td>0.038660</td>\n",
       "      <td>0.069719</td>\n",
       "    </tr>\n",
       "    <tr>\n",
       "      <th>996</th>\n",
       "      <td>0.557177</td>\n",
       "      <td>0.608190</td>\n",
       "    </tr>\n",
       "    <tr>\n",
       "      <th>997</th>\n",
       "      <td>-0.488457</td>\n",
       "      <td>-0.477684</td>\n",
       "    </tr>\n",
       "    <tr>\n",
       "      <th>998</th>\n",
       "      <td>-0.628522</td>\n",
       "      <td>-0.623139</td>\n",
       "    </tr>\n",
       "    <tr>\n",
       "      <th>999</th>\n",
       "      <td>-0.677439</td>\n",
       "      <td>-0.673940</td>\n",
       "    </tr>\n",
       "  </tbody>\n",
       "</table>\n",
       "<p>1000 rows × 2 columns</p>\n",
       "</div>"
      ],
      "text/plain": [
       "       Values   Z-Score\n",
       "0    1.690526  1.785156\n",
       "1   -0.465937 -0.454298\n",
       "2    0.032820  0.063654\n",
       "3    0.407516  0.452770\n",
       "4   -0.788923 -0.789714\n",
       "..        ...       ...\n",
       "995  0.038660  0.069719\n",
       "996  0.557177  0.608190\n",
       "997 -0.488457 -0.477684\n",
       "998 -0.628522 -0.623139\n",
       "999 -0.677439 -0.673940\n",
       "\n",
       "[1000 rows x 2 columns]"
      ]
     },
     "execution_count": 9,
     "metadata": {},
     "output_type": "execute_result"
    }
   ],
   "source": [
    "df['Z-Score'] = (df['Values'] - df['Values'].mean()) / df['Values'].std()\n",
    "\n",
    "df"
   ]
  },
  {
   "cell_type": "code",
   "execution_count": 10,
   "metadata": {},
   "outputs": [
    {
     "data": {
      "text/html": [
       "<div>\n",
       "<style scoped>\n",
       "    .dataframe tbody tr th:only-of-type {\n",
       "        vertical-align: middle;\n",
       "    }\n",
       "\n",
       "    .dataframe tbody tr th {\n",
       "        vertical-align: top;\n",
       "    }\n",
       "\n",
       "    .dataframe thead th {\n",
       "        text-align: right;\n",
       "    }\n",
       "</style>\n",
       "<table border=\"1\" class=\"dataframe\">\n",
       "  <thead>\n",
       "    <tr style=\"text-align: right;\">\n",
       "      <th></th>\n",
       "      <th>STD Dev</th>\n",
       "      <th>Perrcent</th>\n",
       "    </tr>\n",
       "  </thead>\n",
       "  <tbody>\n",
       "    <tr>\n",
       "      <th>0</th>\n",
       "      <td>One</td>\n",
       "      <td>67.6</td>\n",
       "    </tr>\n",
       "    <tr>\n",
       "      <th>1</th>\n",
       "      <td>Two</td>\n",
       "      <td>96.2</td>\n",
       "    </tr>\n",
       "    <tr>\n",
       "      <th>2</th>\n",
       "      <td>Three</td>\n",
       "      <td>99.7</td>\n",
       "    </tr>\n",
       "  </tbody>\n",
       "</table>\n",
       "</div>"
      ],
      "text/plain": [
       "  STD Dev  Perrcent\n",
       "0     One      67.6\n",
       "1     Two      96.2\n",
       "2   Three      99.7"
      ]
     },
     "execution_count": 10,
     "metadata": {},
     "output_type": "execute_result"
    }
   ],
   "source": [
    "within_1_std = len(df[(df['Z-Score'] >= -1) & (df['Z-Score'] <= 1)]) / len(df) * 100\n",
    "within_2_std = len(df[(df['Z-Score'] >= -2) & (df['Z-Score'] <= 2)]) / len(df) * 100\n",
    "within_3_std = len(df[(df['Z-Score'] >= -3) & (df['Z-Score'] <= 3)]) / len(df) * 100\n",
    "\n",
    "summary = pd.DataFrame({\n",
    "    'STD Dev': ['One', 'Two', 'Three'],\n",
    "    'Perrcent': [within_1_std, within_2_std, within_3_std]\n",
    "})\n",
    "\n",
    "summary"
   ]
  },
  {
   "cell_type": "code",
   "execution_count": 12,
   "metadata": {},
   "outputs": [
    {
     "name": "stdout",
     "output_type": "stream",
     "text": [
      "       Values   Z-Score  Outlier\n",
      "316  2.861067  3.000746     True\n",
      "350  2.638539  2.769654    False\n",
      "899  2.594645  2.724071    False\n",
      "564  2.510811  2.637011    False\n",
      "985  2.351867  2.471950    False\n",
      "       Values   Z-Score  Outlier\n",
      "384 -3.082505 -3.171564     True\n",
      "685 -3.000316 -3.086212     True\n",
      "457 -2.823831 -2.902935    False\n",
      "449 -2.794785 -2.872771    False\n",
      "419 -2.761517 -2.838223    False\n"
     ]
    }
   ],
   "source": [
    "df['Outlier'] = (df['Z-Score'] > 3) | (df['Z-Score'] < -3)\n",
    "\n",
    "top_5_highest = df.sort_values(by='Z-Score', ascending=False).head(5)\n",
    "top_5_lowest = df.sort_values(by='Z-Score', ascending=True).head(5)\n",
    "\n",
    "print(top_5_highest)\n",
    "print(top_5_lowest)"
   ]
  },
  {
   "cell_type": "code",
   "execution_count": 14,
   "metadata": {},
   "outputs": [
    {
     "data": {
      "text/plain": [
       "(997, 3)"
      ]
     },
     "execution_count": 14,
     "metadata": {},
     "output_type": "execute_result"
    }
   ],
   "source": [
    "df_no_outliers = df[df['Outlier'] == False].copy()\n",
    "df_no_outliers.shape"
   ]
  },
  {
   "cell_type": "code",
   "execution_count": 15,
   "metadata": {},
   "outputs": [
    {
     "name": "stdout",
     "output_type": "stream",
     "text": [
      "       Values   Z-Score  Outlier\n",
      "350  2.638539  2.769654    False\n",
      "899  2.594645  2.724071    False\n",
      "564  2.510811  2.637011    False\n",
      "985  2.351867  2.471950    False\n",
      "96   2.259947  2.376492    False\n",
      "       Values   Z-Score  Outlier\n",
      "457 -2.823831 -2.902935    False\n",
      "449 -2.794785 -2.872771    False\n",
      "419 -2.761517 -2.838223    False\n",
      "278 -2.305183 -2.364327    False\n",
      "356 -2.299249 -2.358164    False\n"
     ]
    }
   ],
   "source": [
    "top_5_highest_no_outlier = df_no_outliers.sort_values(by='Z-Score', ascending=False).head(5)\n",
    "top_5_lowest_no_outlier = df_no_outliers.sort_values(by='Z-Score', ascending=True).head(5)\n",
    "\n",
    "print(top_5_highest_no_outlier)\n",
    "print(top_5_lowest_no_outlier)"
   ]
  },
  {
   "cell_type": "code",
   "execution_count": null,
   "metadata": {},
   "outputs": [],
   "source": []
  }
 ],
 "metadata": {
  "kernelspec": {
   "display_name": "Python 3",
   "language": "python",
   "name": "python3"
  },
  "language_info": {
   "codemirror_mode": {
    "name": "ipython",
    "version": 3
   },
   "file_extension": ".py",
   "mimetype": "text/x-python",
   "name": "python",
   "nbconvert_exporter": "python",
   "pygments_lexer": "ipython3",
   "version": "3.11.4"
  }
 },
 "nbformat": 4,
 "nbformat_minor": 2
}
