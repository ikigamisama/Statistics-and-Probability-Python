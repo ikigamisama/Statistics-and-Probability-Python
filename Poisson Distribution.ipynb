{
 "cells": [
  {
   "cell_type": "markdown",
   "metadata": {},
   "source": [
    "# **Poisson Distribution**"
   ]
  },
  {
   "cell_type": "markdown",
   "metadata": {},
   "source": [
    "The poission distribution is a probability distribution that describes the number of events occurring within a fixed interval of time or space"
   ]
  },
  {
   "cell_type": "markdown",
   "metadata": {},
   "source": [
    "Examples:\n",
    "\n",
    "- Number of Subscribers joining a YouTube channel in a day\n",
    "\n",
    "- Website visitor per hour\n",
    "\n",
    "- Chargebacks per QUarter"
   ]
  },
  {
   "cell_type": "markdown",
   "metadata": {},
   "source": [
    "It deals with counts of events that are non-negative interger values (0,1,2 . . .)"
   ]
  },
  {
   "cell_type": "markdown",
   "metadata": {},
   "source": [
    "Terms to know:\n",
    "\n",
    "- Lambda - The average rate (mean) at which event occur in a given interval\n",
    "    - Average rate of subscribers per day. For instance, if you expect to gain 30 subscribers per day then lambda = 40\n",
    "\n",
    "- K Number events you're calculating the probability for\n",
    "    - Example Text 50 Subscribers in a day OR 25 subscribers in a day"
   ]
  },
  {
   "cell_type": "code",
   "execution_count": 1,
   "metadata": {},
   "outputs": [],
   "source": [
    "import numpy as np\n",
    "from scipy.stats import poisson\n",
    "import matplotlib.pyplot as plt\n",
    "import seaborn as sns"
   ]
  },
  {
   "cell_type": "markdown",
   "metadata": {},
   "source": [
    "### Example #1 Generating random poisson from numpy"
   ]
  },
  {
   "cell_type": "code",
   "execution_count": 5,
   "metadata": {},
   "outputs": [
    {
     "data": {
      "text/plain": [
       "array([6, 8, 4, 8, 6, 9, 9, 5, 6, 2])"
      ]
     },
     "execution_count": 5,
     "metadata": {},
     "output_type": "execute_result"
    }
   ],
   "source": [
    "lambda_value = 5\n",
    "size = 10\n",
    "poisson_samples = np.random.poisson(lam=lambda_value, size=size)\n",
    "poisson_samples"
   ]
  },
  {
   "cell_type": "markdown",
   "metadata": {},
   "source": [
    "### Example #2 Generate Random poission from scipy"
   ]
  },
  {
   "cell_type": "code",
   "execution_count": 8,
   "metadata": {},
   "outputs": [
    {
     "name": "stdout",
     "output_type": "stream",
     "text": [
      "[1 4 7 2 5 2 3 9 3 7]\n",
      "4.3\n",
      "2.4919871588754225\n"
     ]
    }
   ],
   "source": [
    "poisson_samples_2 = poisson.rvs(mu=lambda_value, size=size, random_state=11)\n",
    "print(poisson_samples_2)\n",
    "print(poisson_samples_2.mean())\n",
    "print(poisson_samples_2.std())"
   ]
  },
  {
   "cell_type": "markdown",
   "metadata": {},
   "source": [
    "### Example #3 Poisson PMF Single Value"
   ]
  },
  {
   "cell_type": "code",
   "execution_count": 9,
   "metadata": {},
   "outputs": [
    {
     "data": {
      "text/plain": [
       "0.1403738958142805"
      ]
     },
     "execution_count": 9,
     "metadata": {},
     "output_type": "execute_result"
    }
   ],
   "source": [
    "lambda_value = 5\n",
    "k = 3\n",
    "prob = poisson.pmf(k, lambda_value)\n",
    "prob\n"
   ]
  },
  {
   "cell_type": "markdown",
   "metadata": {},
   "source": [
    "### Example #4 PMF multiple values"
   ]
  },
  {
   "cell_type": "code",
   "execution_count": 10,
   "metadata": {},
   "outputs": [
    {
     "data": {
      "text/plain": [
       "array([0.14622281, 0.06527804, 0.17546737, 0.06527804, 0.14622281,\n",
       "       0.03626558, 0.03626558, 0.17546737, 0.14622281, 0.08422434])"
      ]
     },
     "execution_count": 10,
     "metadata": {},
     "output_type": "execute_result"
    }
   ],
   "source": [
    "prob2 = poisson.pmf(poisson_samples, lambda_value)\n",
    "prob2"
   ]
  },
  {
   "cell_type": "markdown",
   "metadata": {},
   "source": [
    "### Example #5 CDF single point"
   ]
  },
  {
   "cell_type": "code",
   "execution_count": 11,
   "metadata": {},
   "outputs": [
    {
     "data": {
      "text/plain": [
       "0.2650259152973615"
      ]
     },
     "execution_count": 11,
     "metadata": {},
     "output_type": "execute_result"
    }
   ],
   "source": [
    "prob_cdf = poisson.cdf(k, lambda_value)\n",
    "prob_cdf"
   ]
  },
  {
   "cell_type": "markdown",
   "metadata": {},
   "source": [
    "### Example #6 CDF Multiple points"
   ]
  },
  {
   "cell_type": "code",
   "execution_count": 12,
   "metadata": {},
   "outputs": [
    {
     "data": {
      "text/plain": [
       "array([0.76218346, 0.93190637, 0.44049329, 0.93190637, 0.76218346,\n",
       "       0.96817194, 0.96817194, 0.61596065, 0.76218346, 0.12465202])"
      ]
     },
     "execution_count": 12,
     "metadata": {},
     "output_type": "execute_result"
    }
   ],
   "source": [
    "prob_cdf_2 = poisson.cdf(poisson_samples, lambda_value)\n",
    "prob_cdf_2"
   ]
  },
  {
   "cell_type": "markdown",
   "metadata": {},
   "source": [
    "### Example #7 Stem plot"
   ]
  },
  {
   "cell_type": "code",
   "execution_count": 13,
   "metadata": {},
   "outputs": [
    {
     "data": {
      "image/png": "[encoded data removed]",
      "text/plain": [
       "<Figure size 640x480 with 1 Axes>"
      ]
     },
     "metadata": {},
     "output_type": "display_data"
    }
   ],
   "source": [
    "lambda_value = 5\n",
    "k_values = np.arange(0,15)\n",
    "pmf_values = poisson.pmf(k_values, lambda_value)\n",
    "\n",
    "plt.stem(k_values, pmf_values)\n",
    "plt.title(\"Poission Distribution\")\n",
    "plt.xlabel(\"No. of Events\")\n",
    "plt.ylabel(\"Probability\")\n",
    "plt.show()"
   ]
  },
  {
   "cell_type": "markdown",
   "metadata": {},
   "source": [
    "### Example #8 Histogram"
   ]
  },
  {
   "cell_type": "code",
   "execution_count": 14,
   "metadata": {},
   "outputs": [
    {
     "data": {
      "image/png": "[encoded data removed]",
      "text/plain": [
       "<Figure size 640x480 with 1 Axes>"
      ]
     },
     "metadata": {},
     "output_type": "display_data"
    }
   ],
   "source": [
    "sample_size = 1000\n",
    "data = np.random.poisson(lambda_value, sample_size)\n",
    "\n",
    "plt.hist(data, bins=np.arange(0,16)-0.5, edgecolor=\"black\", alpha=0.7)\n",
    "plt.title(\"Poission Distribution\")\n",
    "plt.xlabel(\"No. of Events\")\n",
    "plt.ylabel(\"Count\")\n",
    "plt.xticks(np.arange(0,15))\n",
    "plt.show()"
   ]
  },
  {
   "cell_type": "code",
   "execution_count": null,
   "metadata": {},
   "outputs": [],
   "source": []
  }
 ],
 "metadata": {
  "kernelspec": {
   "display_name": "Python 3",
   "language": "python",
   "name": "python3"
  },
  "language_info": {
   "codemirror_mode": {
    "name": "ipython",
    "version": 3
   },
   "file_extension": ".py",
   "mimetype": "text/x-python",
   "name": "python",
   "nbconvert_exporter": "python",
   "pygments_lexer": "ipython3",
   "version": "3.11.4"
  }
 },
 "nbformat": 4,
 "nbformat_minor": 2
}
